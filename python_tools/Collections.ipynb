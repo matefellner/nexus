{
 "cells": [
  {
   "cell_type": "markdown",
   "id": "1b7e188f",
   "metadata": {},
   "source": [
    "# Tutorial for collections in Python3\n",
    "\n",
    "- namedtuple"
   ]
  },
  {
   "cell_type": "code",
   "execution_count": 1,
   "id": "1f513910",
   "metadata": {},
   "outputs": [
    {
     "name": "stdout",
     "output_type": "stream",
     "text": [
      "Car(color='red', milage=3812)\n",
      "red\n",
      "3812\n"
     ]
    }
   ],
   "source": [
    "# Namedtuple, class alternative\n",
    "\n",
    "from collections import namedtuple\n",
    "Car = namedtuple('Car', 'color, milage')\n",
    "my_car = Car('red', 3812)\n",
    "print(my_car)\n",
    "print(my_car.color)\n",
    "print(my_car.milage)"
   ]
  },
  {
   "cell_type": "code",
   "execution_count": 2,
   "id": "bc064048",
   "metadata": {},
   "outputs": [
    {
     "name": "stdout",
     "output_type": "stream",
     "text": [
      "deque([])\n",
      "deque(['Jane', 'John', 'Linda'])\n"
     ]
    }
   ],
   "source": [
    "# deque, double-ended queue\n",
    "\n",
    "from collections import deque\n",
    "\n",
    "ticket_queue = deque()\n",
    "print(ticket_queue)\n",
    "\n",
    "ticket_queue.append(\"Jane\")\n",
    "ticket_queue.append(\"John\")\n",
    "ticket_queue.append(\"Linda\")\n",
    "\n",
    "print(ticket_queue)"
   ]
  },
  {
   "cell_type": "code",
   "execution_count": 3,
   "id": "fdb96f96",
   "metadata": {},
   "outputs": [
    {
     "name": "stdout",
     "output_type": "stream",
     "text": [
      "deque(['John'])\n"
     ]
    }
   ],
   "source": [
    "ticket_queue.popleft()\n",
    "ticket_queue.pop()\n",
    "print(ticket_queue)"
   ]
  },
  {
   "cell_type": "code",
   "execution_count": 4,
   "id": "c3dc2ae3",
   "metadata": {},
   "outputs": [
    {
     "name": "stdout",
     "output_type": "stream",
     "text": [
      "defaultdict(<class 'int'>, {})\n",
      "0\n",
      "defaultdict(<class 'int'>, {'dogs': 0})\n",
      "defaultdict(<class 'int'>, {'dogs': 3, 'cats': 2})\n"
     ]
    }
   ],
   "source": [
    "# defaultdict\n",
    "\n",
    "from collections import defaultdict\n",
    "\n",
    "counter = defaultdict(int)\n",
    "print(counter)\n",
    "print(counter[\"dogs\"])\n",
    "\n",
    "print(counter)\n",
    "\n",
    "counter[\"dogs\"] += 1\n",
    "counter[\"dogs\"] += 1\n",
    "counter[\"dogs\"] += 1\n",
    "counter[\"cats\"] += 1\n",
    "counter[\"cats\"] += 1\n",
    "\n",
    "print(counter)"
   ]
  },
  {
   "cell_type": "code",
   "execution_count": 5,
   "id": "bcaf736c",
   "metadata": {},
   "outputs": [
    {
     "name": "stdout",
     "output_type": "stream",
     "text": [
      "dog -> ['Affenpinscher', 'Terrier', 'Boxer']\n",
      "cat -> ['Abyssinian', 'Birman']\n"
     ]
    }
   ],
   "source": [
    "from collections import defaultdict\n",
    "\n",
    "pets = [(\"dog\", \"Affenpinscher\"),\n",
    "        (\"dog\", \"Terrier\"),\n",
    "        (\"dog\", \"Boxer\"),\n",
    "        (\"cat\", \"Abyssinian\"),\n",
    "        (\"cat\", \"Birman\")]\n",
    "\n",
    "group_pets = defaultdict(list)\n",
    "\n",
    "for pet, breed in pets:\n",
    "    group_pets[pet].append(breed)\n",
    "    \n",
    "for pet, breeds in group_pets.items():\n",
    "    print(pet, \"->\", breeds)"
   ]
  },
  {
   "cell_type": "code",
   "execution_count": 6,
   "id": "35991c17",
   "metadata": {},
   "outputs": [
    {
     "name": "stdout",
     "output_type": "stream",
     "text": [
      "Counter({'i': 4, 's': 4, 'p': 2, 'm': 1})\n"
     ]
    }
   ],
   "source": [
    "# counter\n",
    "\n",
    "from collections import Counter\n",
    "\n",
    "letters = Counter(\"mississippi\")\n",
    "print(letters)"
   ]
  },
  {
   "cell_type": "code",
   "execution_count": 7,
   "id": "a2bc7282",
   "metadata": {},
   "outputs": [
    {
     "name": "stdout",
     "output_type": "stream",
     "text": [
      "Counter({'i': 8, 'm': 4, 's': 4, 'p': 2})\n"
     ]
    }
   ],
   "source": [
    "letters.update(m=3, i=4)\n",
    "print(letters)"
   ]
  },
  {
   "cell_type": "code",
   "execution_count": 8,
   "id": "32c22345",
   "metadata": {},
   "outputs": [
    {
     "data": {
      "text/plain": [
       "0"
      ]
     },
     "execution_count": 8,
     "metadata": {},
     "output_type": "execute_result"
    }
   ],
   "source": [
    "letters[\"a\"]"
   ]
  },
  {
   "cell_type": "code",
   "execution_count": 9,
   "id": "5a6561f6",
   "metadata": {},
   "outputs": [
    {
     "data": {
      "text/plain": [
       "'proxy.local.com'"
      ]
     },
     "execution_count": 9,
     "metadata": {},
     "output_type": "execute_result"
    }
   ],
   "source": [
    "# ChainMap\n",
    "\n",
    "from collections import ChainMap\n",
    "cmd_proxy = {}  # The user doesn't provide a proxy\n",
    "local_proxy = {\"proxy\": \"proxy.local.com\"}\n",
    "global_proxy = {\"proxy\": \"proxy.global.com\"}\n",
    "\n",
    "config = ChainMap(cmd_proxy, local_proxy, global_proxy)\n",
    "config[\"proxy\"]"
   ]
  },
  {
   "cell_type": "code",
   "execution_count": 10,
   "id": "538553df",
   "metadata": {},
   "outputs": [
    {
     "name": "stdout",
     "output_type": "stream",
     "text": [
      "[{'one': 1, 'two': 2}, {'a': 'A', 'b': 'B'}]\n",
      "A\n"
     ]
    }
   ],
   "source": [
    "numbers = {\"one\": 1, \"two\": 2}\n",
    "letters = {\"a\": \"A\", \"b\": \"B\"}\n",
    "\n",
    "alpha_nums = ChainMap(numbers, letters)\n",
    "print(alpha_nums.maps)\n",
    "print(alpha_nums[\"a\"])"
   ]
  },
  {
   "cell_type": "code",
   "execution_count": null,
   "id": "97885535",
   "metadata": {},
   "outputs": [],
   "source": []
  }
 ],
 "metadata": {
  "kernelspec": {
   "display_name": "Python 3",
   "language": "python",
   "name": "python3"
  },
  "language_info": {
   "codemirror_mode": {
    "name": "ipython",
    "version": 3
   },
   "file_extension": ".py",
   "mimetype": "text/x-python",
   "name": "python",
   "nbconvert_exporter": "python",
   "pygments_lexer": "ipython3",
   "version": "3.8.8"
  }
 },
 "nbformat": 4,
 "nbformat_minor": 5
}
