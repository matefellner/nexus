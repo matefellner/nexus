{
 "cells": [
  {
   "cell_type": "code",
   "execution_count": 1,
   "id": "d6a0a37e-3d74-46d5-804d-db490ab3a136",
   "metadata": {},
   "outputs": [],
   "source": [
    "import numpy as np\n",
    "import pandas as pd\n",
    "import dirty_cat\n",
    "from dirty_cat import datasets\n",
    "\n",
    "employee_salaries = datasets.fetch_employee_salaries()"
   ]
  },
  {
   "cell_type": "code",
   "execution_count": 2,
   "id": "5777d97c-338c-48ca-aae8-e419913f2baf",
   "metadata": {
    "tags": []
   },
   "outputs": [
    {
     "data": {
      "text/plain": [
       "Index(['gender', 'department', 'department_name', 'division',\n",
       "       'assignment_category', 'employee_position_title',\n",
       "       'underfilled_job_title', 'date_first_hired', 'year_first_hired'],\n",
       "      dtype='object')"
      ]
     },
     "execution_count": 2,
     "metadata": {},
     "output_type": "execute_result"
    }
   ],
   "source": [
    "data = employee_salaries.X\n",
    "data.columns"
   ]
  },
  {
   "cell_type": "code",
   "execution_count": 3,
   "id": "5aa04f45-f501-415b-a810-e4a17c6490ec",
   "metadata": {},
   "outputs": [
    {
     "name": "stdout",
     "output_type": "stream",
     "text": [
      "current_annual_salary\n"
     ]
    }
   ],
   "source": [
    "y = employee_salaries.y\n",
    "print(y.name)"
   ]
  },
  {
   "cell_type": "code",
   "execution_count": 4,
   "id": "261ad6ff-9d37-435a-baf5-b151f1a73eb7",
   "metadata": {},
   "outputs": [],
   "source": [
    "ml_df = data[['year_first_hired', 'assignment_category', 'employee_position_title']].dropna()"
   ]
  },
  {
   "cell_type": "code",
   "execution_count": 5,
   "id": "4e155120-1f15-432c-8048-17ae8c36df8d",
   "metadata": {},
   "outputs": [
    {
     "data": {
      "text/html": [
       "<div>\n",
       "<style scoped>\n",
       "    .dataframe tbody tr th:only-of-type {\n",
       "        vertical-align: middle;\n",
       "    }\n",
       "\n",
       "    .dataframe tbody tr th {\n",
       "        vertical-align: top;\n",
       "    }\n",
       "\n",
       "    .dataframe thead th {\n",
       "        text-align: right;\n",
       "    }\n",
       "</style>\n",
       "<table border=\"1\" class=\"dataframe\">\n",
       "  <thead>\n",
       "    <tr style=\"text-align: right;\">\n",
       "      <th></th>\n",
       "      <th>year_first_hired</th>\n",
       "      <th>assignment_category</th>\n",
       "      <th>employee_position_title</th>\n",
       "    </tr>\n",
       "  </thead>\n",
       "  <tbody>\n",
       "    <tr>\n",
       "      <th>0</th>\n",
       "      <td>1986</td>\n",
       "      <td>Fulltime-Regular</td>\n",
       "      <td>Office Services Coordinator</td>\n",
       "    </tr>\n",
       "    <tr>\n",
       "      <th>1</th>\n",
       "      <td>1988</td>\n",
       "      <td>Fulltime-Regular</td>\n",
       "      <td>Master Police Officer</td>\n",
       "    </tr>\n",
       "    <tr>\n",
       "      <th>2</th>\n",
       "      <td>1989</td>\n",
       "      <td>Fulltime-Regular</td>\n",
       "      <td>Social Worker IV</td>\n",
       "    </tr>\n",
       "    <tr>\n",
       "      <th>3</th>\n",
       "      <td>2014</td>\n",
       "      <td>Fulltime-Regular</td>\n",
       "      <td>Resident Supervisor II</td>\n",
       "    </tr>\n",
       "    <tr>\n",
       "      <th>4</th>\n",
       "      <td>2007</td>\n",
       "      <td>Fulltime-Regular</td>\n",
       "      <td>Planning Specialist III</td>\n",
       "    </tr>\n",
       "    <tr>\n",
       "      <th>5</th>\n",
       "      <td>2007</td>\n",
       "      <td>Fulltime-Regular</td>\n",
       "      <td>Police Officer III</td>\n",
       "    </tr>\n",
       "    <tr>\n",
       "      <th>6</th>\n",
       "      <td>2016</td>\n",
       "      <td>Fulltime-Regular</td>\n",
       "      <td>Accountant/Auditor II</td>\n",
       "    </tr>\n",
       "    <tr>\n",
       "      <th>7</th>\n",
       "      <td>2014</td>\n",
       "      <td>Fulltime-Regular</td>\n",
       "      <td>Administrative Specialist II</td>\n",
       "    </tr>\n",
       "    <tr>\n",
       "      <th>8</th>\n",
       "      <td>2016</td>\n",
       "      <td>Fulltime-Regular</td>\n",
       "      <td>Firefighter/Rescuer III</td>\n",
       "    </tr>\n",
       "    <tr>\n",
       "      <th>9</th>\n",
       "      <td>2007</td>\n",
       "      <td>Fulltime-Regular</td>\n",
       "      <td>Police Aide</td>\n",
       "    </tr>\n",
       "  </tbody>\n",
       "</table>\n",
       "</div>"
      ],
      "text/plain": [
       "   year_first_hired assignment_category       employee_position_title\n",
       "0              1986    Fulltime-Regular   Office Services Coordinator\n",
       "1              1988    Fulltime-Regular         Master Police Officer\n",
       "2              1989    Fulltime-Regular              Social Worker IV\n",
       "3              2014    Fulltime-Regular        Resident Supervisor II\n",
       "4              2007    Fulltime-Regular       Planning Specialist III\n",
       "5              2007    Fulltime-Regular            Police Officer III\n",
       "6              2016    Fulltime-Regular         Accountant/Auditor II\n",
       "7              2014    Fulltime-Regular  Administrative Specialist II\n",
       "8              2016    Fulltime-Regular       Firefighter/Rescuer III\n",
       "9              2007    Fulltime-Regular                   Police Aide"
      ]
     },
     "execution_count": 5,
     "metadata": {},
     "output_type": "execute_result"
    }
   ],
   "source": [
    "ml_df.head(10)"
   ]
  },
  {
   "cell_type": "code",
   "execution_count": 6,
   "id": "2d3085f1-142b-4043-a801-e847d7d3b62b",
   "metadata": {},
   "outputs": [],
   "source": [
    "X = ml_df[['employee_position_title', 'year_first_hired', 'assignment_category']]"
   ]
  },
  {
   "cell_type": "code",
   "execution_count": 7,
   "id": "ff94e189-e2d5-42f1-941d-24610990bde5",
   "metadata": {},
   "outputs": [
    {
     "data": {
      "text/plain": [
       "(9228,)"
      ]
     },
     "execution_count": 7,
     "metadata": {},
     "output_type": "execute_result"
    }
   ],
   "source": [
    "ml_df['employee_position_title'].shape"
   ]
  },
  {
   "cell_type": "code",
   "execution_count": 8,
   "id": "7476f126-43fe-446d-8b7c-74628487d2d8",
   "metadata": {},
   "outputs": [
    {
     "data": {
      "text/plain": [
       "Police Officer III                                    883\n",
       "Firefighter/Rescuer III                               694\n",
       "Bus Operator                                          638\n",
       "Manager III                                           243\n",
       "Correctional Officer III (Corporal)                   228\n",
       "                                                     ... \n",
       "Survey Crew Leader                                      1\n",
       "Animal Care Attendant Supervisor                        1\n",
       "Director Office of Consumer Protection                  1\n",
       "Chief Administrative Officer                            1\n",
       "Supervisor Transportation Systems Technical Center      1\n",
       "Name: employee_position_title, Length: 385, dtype: int64"
      ]
     },
     "execution_count": 8,
     "metadata": {},
     "output_type": "execute_result"
    }
   ],
   "source": [
    "ml_df['employee_position_title'].value_counts()"
   ]
  },
  {
   "cell_type": "code",
   "execution_count": 9,
   "id": "008fabc9-bc07-4008-a5d3-cd287a473371",
   "metadata": {},
   "outputs": [
    {
     "data": {
      "text/plain": [
       "(9228, 1264)"
      ]
     },
     "execution_count": 9,
     "metadata": {},
     "output_type": "execute_result"
    }
   ],
   "source": [
    "from sklearn.feature_extraction.text import CountVectorizer\n",
    "\n",
    "cv = CountVectorizer(analyzer='char', ngram_range=(3, 3)).fit(ml_df['employee_position_title'])\n",
    "cv.transform(ml_df['employee_position_title']).shape"
   ]
  },
  {
   "cell_type": "code",
   "execution_count": 10,
   "id": "5dbc6ffd-fa40-44ec-9729-bef456dd9f83",
   "metadata": {},
   "outputs": [
    {
     "data": {
      "text/plain": [
       "['off', 'ffi', 'fic', 'ice', 'ce ', 'e s', ' se', 'ser', 'erv', 'rvi']"
      ]
     },
     "execution_count": 10,
     "metadata": {},
     "output_type": "execute_result"
    }
   ],
   "source": [
    "list(cv.vocabulary_)[:10]"
   ]
  },
  {
   "cell_type": "code",
   "execution_count": 11,
   "id": "16f77926-1d65-4c6e-9d1b-5a037ff2663d",
   "metadata": {},
   "outputs": [
    {
     "name": "stderr",
     "output_type": "stream",
     "text": [
      "/tmp/ipykernel_26443/3977472496.py:1: UserWarning: The \"similarity\" argument is deprecated since dirty_cat 0.3, and will be removed in 0.5.The n-gram similarity is the only one currently supported. \n",
      "  mod = dirty_cat.SimilarityEncoder(categories='most_frequent', n_prototypes=200)\n"
     ]
    },
    {
     "data": {
      "text/plain": [
       "(9228, 200)"
      ]
     },
     "execution_count": 11,
     "metadata": {},
     "output_type": "execute_result"
    }
   ],
   "source": [
    "\n",
    "\n",
    "mod = dirty_cat.SimilarityEncoder(categories='most_frequent', n_prototypes=200)\n",
    "mod.fit_transform(data[['employee_position_title']]).shape"
   ]
  },
  {
   "cell_type": "code",
   "execution_count": 12,
   "id": "27650792-5c87-4d22-92da-83d46c9fa261",
   "metadata": {},
   "outputs": [
    {
     "name": "stderr",
     "output_type": "stream",
     "text": [
      "/tmp/ipykernel_26443/2750523430.py:15: UserWarning: The \"similarity\" argument is deprecated since dirty_cat 0.3, and will be removed in 0.5.The n-gram similarity is the only one currently supported. \n",
      "  'sim_enc100': dirty_cat.SimilarityEncoder(categories='most_frequent', n_prototypes=100),\n",
      "/tmp/ipykernel_26443/2750523430.py:16: UserWarning: The \"similarity\" argument is deprecated since dirty_cat 0.3, and will be removed in 0.5.The n-gram similarity is the only one currently supported. \n",
      "  'sim_enc300': dirty_cat.SimilarityEncoder(categories='most_frequent', n_prototypes=300),\n",
      "/tmp/ipykernel_26443/2750523430.py:17: UserWarning: The \"similarity\" argument is deprecated since dirty_cat 0.3, and will be removed in 0.5.The n-gram similarity is the only one currently supported. \n",
      "  'sim_enc_all': dirty_cat.SimilarityEncoder(),\n"
     ]
    }
   ],
   "source": [
    "# all in all\n",
    "\n",
    "from sklearn import set_config\n",
    "\n",
    "set_config(display=\"diagram\")\n",
    "\n",
    "from sklearn.pipeline import Pipeline, FeatureUnion\n",
    "from sklego.preprocessing import ColumnSelector\n",
    "from sklearn.preprocessing import StandardScaler, OneHotEncoder, FunctionTransformer\n",
    "from sklearn.model_selection import GridSearchCV\n",
    "from sklearn.feature_extraction.text import CountVectorizer\n",
    "from sklearn.linear_model import Ridge\n",
    "\n",
    "method = {\n",
    "    'sim_enc100': dirty_cat.SimilarityEncoder(categories='most_frequent', n_prototypes=100),\n",
    "    'sim_enc300': dirty_cat.SimilarityEncoder(categories='most_frequent', n_prototypes=300),\n",
    "    'sim_enc_all': dirty_cat.SimilarityEncoder(),\n",
    "    'one-hot': OneHotEncoder(handle_unknown='ignore')\n",
    "}\n",
    "\n",
    "results = []\n",
    "\n",
    "for k, encoder in method.items():\n",
    "    pipe = Pipeline([\n",
    "        ('split', FeatureUnion([\n",
    "            ('cat', Pipeline([\n",
    "                ('grab', ColumnSelector(['employee_position_title'])),\n",
    "                ('handle', encoder)\n",
    "            ])),\n",
    "            ('one-hot', Pipeline([\n",
    "                ('grab', ColumnSelector('assignment_category')),\n",
    "                ('handle', OneHotEncoder(handle_unknown='ignore'))\n",
    "            ])),\n",
    "            ('floats', Pipeline([\n",
    "                ('grab', ColumnSelector('year_first_hired')),\n",
    "                ('scale', StandardScaler())\n",
    "            ])),\n",
    "        ])),\n",
    "        ('mod', Ridge())\n",
    "    ])\n",
    "\n",
    "    grid = GridSearchCV(pipe, cv=10, param_grid={}, scoring=['r2', 'neg_mean_absolute_error'], refit='r2', n_jobs=-1)\n",
    "    res_df = pd.DataFrame(grid.fit(X, y).cv_results_)\n",
    "    res_df['key'] = k\n",
    "    results.append(res_df)"
   ]
  },
  {
   "cell_type": "code",
   "execution_count": 13,
   "id": "0e1a9a6f-a351-4667-8eb5-e3356cd1ecf1",
   "metadata": {},
   "outputs": [
    {
     "data": {
      "text/html": [
       "<div>\n",
       "<style scoped>\n",
       "    .dataframe tbody tr th:only-of-type {\n",
       "        vertical-align: middle;\n",
       "    }\n",
       "\n",
       "    .dataframe tbody tr th {\n",
       "        vertical-align: top;\n",
       "    }\n",
       "\n",
       "    .dataframe thead th {\n",
       "        text-align: right;\n",
       "    }\n",
       "</style>\n",
       "<table border=\"1\" class=\"dataframe\">\n",
       "  <thead>\n",
       "    <tr style=\"text-align: right;\">\n",
       "      <th></th>\n",
       "      <th>index</th>\n",
       "      <th>mean_test_neg_mean_absolute_error</th>\n",
       "      <th>mean_test_r2</th>\n",
       "      <th>key</th>\n",
       "    </tr>\n",
       "  </thead>\n",
       "  <tbody>\n",
       "    <tr>\n",
       "      <th>0</th>\n",
       "      <td>0</td>\n",
       "      <td>-6314.401344</td>\n",
       "      <td>0.902066</td>\n",
       "      <td>sim_enc_all</td>\n",
       "    </tr>\n",
       "    <tr>\n",
       "      <th>1</th>\n",
       "      <td>0</td>\n",
       "      <td>-6564.292035</td>\n",
       "      <td>0.875512</td>\n",
       "      <td>sim_enc300</td>\n",
       "    </tr>\n",
       "    <tr>\n",
       "      <th>2</th>\n",
       "      <td>0</td>\n",
       "      <td>-6394.404808</td>\n",
       "      <td>0.861479</td>\n",
       "      <td>one-hot</td>\n",
       "    </tr>\n",
       "    <tr>\n",
       "      <th>3</th>\n",
       "      <td>0</td>\n",
       "      <td>-7765.907348</td>\n",
       "      <td>0.789570</td>\n",
       "      <td>sim_enc100</td>\n",
       "    </tr>\n",
       "  </tbody>\n",
       "</table>\n",
       "</div>"
      ],
      "text/plain": [
       "   index  mean_test_neg_mean_absolute_error  mean_test_r2          key\n",
       "0      0                       -6314.401344      0.902066  sim_enc_all\n",
       "1      0                       -6564.292035      0.875512   sim_enc300\n",
       "2      0                       -6394.404808      0.861479      one-hot\n",
       "3      0                       -7765.907348      0.789570   sim_enc100"
      ]
     },
     "execution_count": 13,
     "metadata": {},
     "output_type": "execute_result"
    }
   ],
   "source": [
    "plt_df = pd.concat(results)[['mean_test_neg_mean_absolute_error', 'mean_test_r2', 'key']]\n",
    "plt_df.sort_values('mean_test_r2', ascending=False).reset_index()"
   ]
  },
  {
   "cell_type": "code",
   "execution_count": null,
   "id": "b2fdddb9-8dc7-4496-bad1-bb4475d2e184",
   "metadata": {},
   "outputs": [],
   "source": []
  }
 ],
 "metadata": {
  "kernelspec": {
   "display_name": "Python 3 (ipykernel)",
   "language": "python",
   "name": "python3"
  },
  "language_info": {
   "codemirror_mode": {
    "name": "ipython",
    "version": 3
   },
   "file_extension": ".py",
   "mimetype": "text/x-python",
   "name": "python",
   "nbconvert_exporter": "python",
   "pygments_lexer": "ipython3",
   "version": "3.9.15"
  }
 },
 "nbformat": 4,
 "nbformat_minor": 5
}
