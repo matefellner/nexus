{
 "cells": [
  {
   "cell_type": "code",
   "execution_count": 1,
   "id": "07129697",
   "metadata": {},
   "outputs": [
    {
     "data": {
      "text/plain": [
       "-24"
      ]
     },
     "execution_count": 1,
     "metadata": {},
     "output_type": "execute_result"
    }
   ],
   "source": [
    "def multiply(*numbers):\n",
    "    result = 1\n",
    "    for n in numbers:\n",
    "        result = result * n\n",
    "    return result\n",
    "\n",
    "multiply(4,2,3,-1)"
   ]
  },
  {
   "cell_type": "code",
   "execution_count": 5,
   "id": "a0a7408b",
   "metadata": {
    "scrolled": true
   },
   "outputs": [
    {
     "name": "stdout",
     "output_type": "stream",
     "text": [
      "1 2\n",
      "(5, 3, 4)\n",
      "True\n",
      "{'param': 42}\n"
     ]
    }
   ],
   "source": [
    "def function(a, b, *args, keyword=True, **kwargs):\n",
    "    print(a, b)\n",
    "    print(args)\n",
    "    print(keyword)\n",
    "    print(kwargs)\n",
    "    \n",
    "function(1,2, 5, 3, 4, param=42)"
   ]
  },
  {
   "cell_type": "code",
   "execution_count": 6,
   "id": "1b558266",
   "metadata": {},
   "outputs": [
    {
     "name": "stdout",
     "output_type": "stream",
     "text": [
      "1 2\n",
      "(5, 3, 4)\n",
      "True\n",
      "{'param': 42, 'param_a': 43, 'param_b': 44}\n"
     ]
    }
   ],
   "source": [
    "d = {'param_a': 43, 'param_b' : 44}\n",
    "function(1, 2, 5, 3, 4, param=42, **d)"
   ]
  },
  {
   "cell_type": "code",
   "execution_count": null,
   "id": "b8ca5156",
   "metadata": {},
   "outputs": [],
   "source": []
  }
 ],
 "metadata": {
  "kernelspec": {
   "display_name": "Python 3",
   "language": "python",
   "name": "python3"
  },
  "language_info": {
   "codemirror_mode": {
    "name": "ipython",
    "version": 3
   },
   "file_extension": ".py",
   "mimetype": "text/x-python",
   "name": "python",
   "nbconvert_exporter": "python",
   "pygments_lexer": "ipython3",
   "version": "3.8.8"
  }
 },
 "nbformat": 4,
 "nbformat_minor": 5
}
