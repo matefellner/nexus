{
 "cells": [
  {
   "cell_type": "code",
   "execution_count": 1,
   "metadata": {},
   "outputs": [],
   "source": [
    "import json\n",
    "import pathlib"
   ]
  },
  {
   "cell_type": "code",
   "execution_count": 2,
   "metadata": {},
   "outputs": [],
   "source": [
    "# wget https://calmcode.io/datasets/pokemon.json\n",
    "\n",
    "poke_dict = json.loads(pathlib.Path(\".\", \"..\", \"pokemon.json\").read_text())"
   ]
  },
  {
   "cell_type": "code",
   "execution_count": 3,
   "metadata": {},
   "outputs": [
    {
     "data": {
      "text/plain": [
       "[{'name': 'Bulbasaur',\n",
       "  'type': ['Grass', 'Poison'],\n",
       "  'total': 318,\n",
       "  'hp': 45,\n",
       "  'attack': 49},\n",
       " {'name': 'Ivysaur',\n",
       "  'type': ['Grass', 'Poison'],\n",
       "  'total': 405,\n",
       "  'hp': 60,\n",
       "  'attack': 62},\n",
       " {'name': 'Venusaur',\n",
       "  'type': ['Grass', 'Poison'],\n",
       "  'total': 525,\n",
       "  'hp': 80,\n",
       "  'attack': 82}]"
      ]
     },
     "execution_count": 3,
     "metadata": {},
     "output_type": "execute_result"
    }
   ],
   "source": [
    "poke_dict[:3]"
   ]
  },
  {
   "cell_type": "code",
   "execution_count": 43,
   "metadata": {},
   "outputs": [],
   "source": [
    "class Clumper:\n",
    "    def __init__(self, blob):\n",
    "        self.blob = blob.copy()\n",
    "        \n",
    "    def keep(self, *funcs):\n",
    "        data = self.blob\n",
    "        for func in funcs:\n",
    "            data = [d for d in data if func(d)]\n",
    "        return Clumper(data)\n",
    "    \n",
    "    def head(self, n=5):\n",
    "        return Clumper([self.blob[i] for i in range(n)])\n",
    "    \n",
    "    def tail(self, n):\n",
    "        return Clumper([self.blob[-i] for i in range(1, n+1)])\n",
    "    \n",
    "    def select(self, *keys):\n",
    "        return Clumper([{k: d[k] for k in keys} for d in self.blob])\n",
    "    \n",
    "    def mutate(self, **kwargs):\n",
    "        data = self.blob\n",
    "        for key, func in kwargs.items():\n",
    "            for i in range(len(data)):\n",
    "                data[i][key] = func(data[i])\n",
    "        return Clumper(data)\n",
    "    \n",
    "    def sort(self, key, reverse=False):\n",
    "        return Clumper(sorted(self.blob, key=key, reverse=reverse))\n",
    "        "
   ]
  },
  {
   "cell_type": "code",
   "execution_count": 21,
   "metadata": {},
   "outputs": [
    {
     "data": {
      "text/plain": [
       "[{'name': 'GourgeistSmall Size', 'hp': 55},\n",
       " {'name': 'PumpkabooSuper Size', 'hp': 59}]"
      ]
     },
     "execution_count": 21,
     "metadata": {},
     "output_type": "execute_result"
    }
   ],
   "source": [
    "(Clumper(poke_dict)\n",
    ".keep(lambda d: 'Grass' in d['type'],\n",
    "      lambda d: d['hp'] < 60)\n",
    " .tail(2)\n",
    " .select('name', 'hp')\n",
    ".blob)"
   ]
  },
  {
   "cell_type": "code",
   "execution_count": 45,
   "metadata": {},
   "outputs": [
    {
     "data": {
      "text/plain": [
       "[]"
      ]
     },
     "execution_count": 45,
     "metadata": {},
     "output_type": "execute_result"
    }
   ],
   "source": [
    "(Clumper(poke_dict)\n",
    ".keep(lambda d: 'Grass' in d['type'],\n",
    "      lambda d: d['hp'] < 60)\n",
    ".mutate(hp=lambda d: 2*d['hp'])\n",
    "#.tail(2)\n",
    ".select('name', 'hp')\n",
    " .sort(lambda d:d['hp'])\n",
    ".blob)"
   ]
  },
  {
   "cell_type": "code",
   "execution_count": 33,
   "metadata": {},
   "outputs": [
    {
     "data": {
      "text/plain": [
       "[(2, 1), (1, 2), (4, 3), (5, 10)]"
      ]
     },
     "execution_count": 33,
     "metadata": {},
     "output_type": "execute_result"
    }
   ],
   "source": [
    "tuple_list = [(1, 2), (4, 3), (5, 10), (2, 1)]\n",
    "sorted(tuple_list, key=lambda t: t[1])"
   ]
  },
  {
   "cell_type": "code",
   "execution_count": null,
   "metadata": {},
   "outputs": [],
   "source": []
  }
 ],
 "metadata": {
  "kernelspec": {
   "display_name": "Python 3",
   "language": "python",
   "name": "python3"
  },
  "language_info": {
   "codemirror_mode": {
    "name": "ipython",
    "version": 3
   },
   "file_extension": ".py",
   "mimetype": "text/x-python",
   "name": "python",
   "nbconvert_exporter": "python",
   "pygments_lexer": "ipython3",
   "version": "3.8.8"
  }
 },
 "nbformat": 4,
 "nbformat_minor": 4
}
