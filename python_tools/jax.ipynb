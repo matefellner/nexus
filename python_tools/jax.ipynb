{
 "cells": [
  {
   "cell_type": "code",
   "execution_count": 1,
   "id": "2e7cf904-578d-496b-b2b3-f89770f59010",
   "metadata": {},
   "outputs": [],
   "source": [
    "#%pip install jax"
   ]
  },
  {
   "cell_type": "code",
   "execution_count": 2,
   "id": "46b8a7af-3350-46ee-9bff-47599714a399",
   "metadata": {},
   "outputs": [],
   "source": [
    "#%pip install jaxlib"
   ]
  },
  {
   "cell_type": "code",
   "execution_count": 3,
   "id": "937f77bf-4ff5-4fd1-a427-e7f246ec28d3",
   "metadata": {},
   "outputs": [],
   "source": [
    "import numpy as np"
   ]
  },
  {
   "cell_type": "code",
   "execution_count": 4,
   "id": "c503a20c-001f-4ffe-a24e-e689f607ecf6",
   "metadata": {},
   "outputs": [
    {
     "name": "stderr",
     "output_type": "stream",
     "text": [
      "No GPU/TPU found, falling back to CPU. (Set TF_CPP_MIN_LOG_LEVEL=0 and rerun for more info.)\n"
     ]
    },
    {
     "data": {
      "text/plain": [
       "(9.0, Array(6., dtype=float32, weak_type=True))"
      ]
     },
     "execution_count": 4,
     "metadata": {},
     "output_type": "execute_result"
    }
   ],
   "source": [
    "from jax import grad\n",
    "\n",
    "def f(x):\n",
    "    return x**2\n",
    "\n",
    "grad_f = grad(f)\n",
    "\n",
    "f(3.), grad_f(3.)"
   ]
  },
  {
   "cell_type": "code",
   "execution_count": 5,
   "id": "72a4c14a-4a4c-45c5-8c7d-17d974915b0a",
   "metadata": {},
   "outputs": [],
   "source": [
    "def f(x, y):\n",
    "    return y * x**2\n",
    "\n",
    "grad_f = grad(f, argnums=(0, 1))\n",
    "\n",
    "dx, dy = grad_f(1., 2.)"
   ]
  },
  {
   "cell_type": "code",
   "execution_count": 6,
   "id": "1bc5d064-db64-4f03-b7a4-b75ec60b5bfc",
   "metadata": {},
   "outputs": [
    {
     "data": {
      "text/plain": [
       "(Array(4., dtype=float32, weak_type=True),\n",
       " Array(1., dtype=float32, weak_type=True))"
      ]
     },
     "execution_count": 6,
     "metadata": {},
     "output_type": "execute_result"
    }
   ],
   "source": [
    "dx, dy"
   ]
  },
  {
   "cell_type": "code",
   "execution_count": 7,
   "id": "4d458bb8-38f2-4e4d-9e2e-b8d2780f0572",
   "metadata": {},
   "outputs": [],
   "source": [
    "import jax.numpy as np\n",
    "from jax import hessian\n",
    "\n",
    "def f(x):\n",
    "    return np.sum(x**2)\n",
    "\n",
    "grad_f = grad(f)\n",
    "hess_f = hessian(f)\n",
    "\n",
    "dx = grad_f(np.array([1., 2.]))\n",
    "hx = hess_f(np.array([1., 2.]))"
   ]
  },
  {
   "cell_type": "code",
   "execution_count": 8,
   "id": "918502e3-d3b1-4967-9c35-38ecdb24d382",
   "metadata": {},
   "outputs": [
    {
     "data": {
      "text/plain": [
       "(Array([2., 4.], dtype=float32),\n",
       " Array([[2., 0.],\n",
       "        [0., 2.]], dtype=float32))"
      ]
     },
     "execution_count": 8,
     "metadata": {},
     "output_type": "execute_result"
    }
   ],
   "source": [
    "dx, hx"
   ]
  },
  {
   "cell_type": "code",
   "execution_count": 9,
   "id": "3babd5b2-c4e5-4a93-bf55-0f9a48ab1cf1",
   "metadata": {},
   "outputs": [],
   "source": [
    "# just in time compiler\n",
    "\n",
    "from jax import jit\n",
    "from jax import vmap\n",
    "\n",
    "def g(x):\n",
    "    return np.sum(x**2)\n",
    "\n",
    "grad_g = jit(grad(g))"
   ]
  },
  {
   "cell_type": "code",
   "execution_count": 10,
   "id": "3fed8b84-2864-4cd1-b097-192f6d852661",
   "metadata": {},
   "outputs": [
    {
     "name": "stdout",
     "output_type": "stream",
     "text": [
      "CPU times: user 77.8 ms, sys: 463 µs, total: 78.3 ms\n",
      "Wall time: 82.4 ms\n"
     ]
    }
   ],
   "source": [
    "%time _ = vmap(grad_g)(np.linspace(0, 10, 1000))\n"
   ]
  },
  {
   "cell_type": "code",
   "execution_count": null,
   "id": "e3a187b0-045c-48a4-982f-6b105b956368",
   "metadata": {},
   "outputs": [],
   "source": []
  }
 ],
 "metadata": {
  "kernelspec": {
   "display_name": "Python Data",
   "language": "python",
   "name": "data"
  },
  "language_info": {
   "codemirror_mode": {
    "name": "ipython",
    "version": 3
   },
   "file_extension": ".py",
   "mimetype": "text/x-python",
   "name": "python",
   "nbconvert_exporter": "python",
   "pygments_lexer": "ipython3",
   "version": "3.9.15"
  }
 },
 "nbformat": 4,
 "nbformat_minor": 5
}
