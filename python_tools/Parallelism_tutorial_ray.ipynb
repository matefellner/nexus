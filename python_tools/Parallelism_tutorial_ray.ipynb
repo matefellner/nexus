{
 "cells": [
  {
   "cell_type": "code",
   "execution_count": 1,
   "metadata": {},
   "outputs": [],
   "source": [
    "import numpy as np\n",
    "\n",
    "def birthday_experiment(class_size, n_sim=1000):\n",
    "    \"\"\"Simulates the birthday paradox. Vectorized = Fast!\"\"\"\n",
    "    sims = np.random.randint(1, 365 + 1, (n_sim, class_size))\n",
    "    sort_sims = np.sort(sims, axis=1)\n",
    "    n_uniq = (sort_sims[:, 1:] != sort_sims[:, :-1]).sum(axis = 1) + 1\n",
    "    return {\"est_prob\": np.mean(n_uniq != class_size)}"
   ]
  },
  {
   "cell_type": "code",
   "execution_count": 2,
   "metadata": {},
   "outputs": [
    {
     "name": "stdout",
     "output_type": "stream",
     "text": [
      "CPU times: user 1.07 s, sys: 143 ms, total: 1.21 s\n",
      "Wall time: 1.1 s\n"
     ]
    }
   ],
   "source": [
    "%%time\n",
    "results = [birthday_experiment(class_size=size, n_sim=10_000) for size in range(2, 100)]"
   ]
  },
  {
   "cell_type": "code",
   "execution_count": 3,
   "metadata": {},
   "outputs": [
    {
     "name": "stderr",
     "output_type": "stream",
     "text": [
      "2023-01-23 15:01:34,160\tINFO worker.py:1538 -- Started a local Ray instance.\n"
     ]
    }
   ],
   "source": [
    "import ray\n",
    "ray.init(num_cpus=2);"
   ]
  },
  {
   "cell_type": "code",
   "execution_count": 4,
   "metadata": {},
   "outputs": [],
   "source": [
    "@ray.remote\n",
    "def birthday_experiment(class_size, n_sim=1000):\n",
    "    \"\"\"Simulates the birthday paradox. Vectorized = Fast!\"\"\"\n",
    "    sims = np.random.randint(1, 365 + 1, (n_sim, class_size))\n",
    "    sort_sims = np.sort(sims, axis=1)\n",
    "    n_uniq = (sort_sims[:, 1:] != sort_sims[:, :-1]).sum(axis = 1) + 1\n",
    "    return {\"est_prob\": np.mean(n_uniq != class_size)}\n",
    "\n",
    "futures = [birthday_experiment.remote(class_size=size, n_sim=10_000) for size in range(2, 10)]"
   ]
  },
  {
   "cell_type": "code",
   "execution_count": 5,
   "metadata": {},
   "outputs": [
    {
     "name": "stdout",
     "output_type": "stream",
     "text": [
      "CPU times: user 564 µs, sys: 281 µs, total: 845 µs\n",
      "Wall time: 748 µs\n"
     ]
    }
   ],
   "source": [
    "%%time\n",
    "results = ray.get(futures)"
   ]
  },
  {
   "cell_type": "code",
   "execution_count": 6,
   "metadata": {},
   "outputs": [
    {
     "data": {
      "text/plain": [
       "[{'est_prob': 0.003},\n",
       " {'est_prob': 0.0099},\n",
       " {'est_prob': 0.0162},\n",
       " {'est_prob': 0.0269},\n",
       " {'est_prob': 0.0416},\n",
       " {'est_prob': 0.0582},\n",
       " {'est_prob': 0.0754},\n",
       " {'est_prob': 0.0894}]"
      ]
     },
     "execution_count": 6,
     "metadata": {},
     "output_type": "execute_result"
    }
   ],
   "source": [
    "results"
   ]
  },
  {
   "cell_type": "code",
   "execution_count": 7,
   "metadata": {},
   "outputs": [],
   "source": [
    "ray.shutdown()"
   ]
  },
  {
   "cell_type": "code",
   "execution_count": null,
   "metadata": {},
   "outputs": [],
   "source": []
  }
 ],
 "metadata": {
  "kernelspec": {
   "display_name": "Python (data)",
   "language": "python",
   "name": "data_env"
  },
  "language_info": {
   "codemirror_mode": {
    "name": "ipython",
    "version": 3
   },
   "file_extension": ".py",
   "mimetype": "text/x-python",
   "name": "python",
   "nbconvert_exporter": "python",
   "pygments_lexer": "ipython3",
   "version": "3.9.15"
  }
 },
 "nbformat": 4,
 "nbformat_minor": 4
}
