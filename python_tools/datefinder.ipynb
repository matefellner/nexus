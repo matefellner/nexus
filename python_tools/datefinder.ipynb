{
 "cells": [
  {
   "cell_type": "code",
   "execution_count": 1,
   "id": "04a562d6-adcd-456d-a4ea-77afd61e08f6",
   "metadata": {},
   "outputs": [
    {
     "name": "stdout",
     "output_type": "stream",
     "text": [
      "Collecting datefinder\n",
      "  Downloading datefinder-0.7.3-py2.py3-none-any.whl (10 kB)\n",
      "Requirement already satisfied: pytz in /home/fellner/anaconda3/lib/python3.8/site-packages (from datefinder) (2021.1)\n",
      "Requirement already satisfied: regex>=2017.02.08 in /home/fellner/anaconda3/lib/python3.8/site-packages (from datefinder) (2021.4.4)\n",
      "Requirement already satisfied: python-dateutil>=2.4.2 in /home/fellner/anaconda3/lib/python3.8/site-packages (from datefinder) (2.8.1)\n",
      "Requirement already satisfied: six>=1.5 in /home/fellner/anaconda3/lib/python3.8/site-packages (from python-dateutil>=2.4.2->datefinder) (1.15.0)\n",
      "Installing collected packages: datefinder\n",
      "Successfully installed datefinder-0.7.3\n",
      "Note: you may need to restart the kernel to use updated packages.\n"
     ]
    }
   ],
   "source": [
    "%pip install datefinder"
   ]
  },
  {
   "cell_type": "code",
   "execution_count": 2,
   "id": "3ad6e4c8-0081-4a29-956b-fdb07958f432",
   "metadata": {},
   "outputs": [],
   "source": [
    "date_strings = [\n",
    "    \"March 12 2010\",\n",
    "    \"2010-03-12\",\n",
    "    \"03/12/2010 12:42:12\"\n",
    "]"
   ]
  },
  {
   "cell_type": "code",
   "execution_count": 3,
   "id": "15f6073a-3571-4bfc-afbf-858a8abedb06",
   "metadata": {},
   "outputs": [
    {
     "data": {
      "text/plain": [
       "[[datetime.datetime(2010, 3, 12, 0, 0)],\n",
       " [datetime.datetime(2010, 3, 12, 0, 0)],\n",
       " [datetime.datetime(2010, 3, 12, 12, 42, 12)]]"
      ]
     },
     "execution_count": 3,
     "metadata": {},
     "output_type": "execute_result"
    }
   ],
   "source": [
    "import datefinder\n",
    "\n",
    "[list(datefinder.find_dates(d)) for d in date_strings]\n",
    "# [[datetime.datetime(2010, 3, 12, 0, 0)],\n",
    "#  [datetime.datetime(2010, 3, 12, 0, 0)],\n",
    "#  [datetime.datetime(2010, 3, 12, 12, 42, 12)]]"
   ]
  },
  {
   "cell_type": "code",
   "execution_count": null,
   "id": "e790dcb9-b6e5-464d-9dc7-d750be0426c8",
   "metadata": {},
   "outputs": [],
   "source": []
  }
 ],
 "metadata": {
  "kernelspec": {
   "display_name": "Python 3",
   "language": "python",
   "name": "python3"
  },
  "language_info": {
   "codemirror_mode": {
    "name": "ipython",
    "version": 3
   },
   "file_extension": ".py",
   "mimetype": "text/x-python",
   "name": "python",
   "nbconvert_exporter": "python",
   "pygments_lexer": "ipython3",
   "version": "3.8.8"
  }
 },
 "nbformat": 4,
 "nbformat_minor": 5
}
