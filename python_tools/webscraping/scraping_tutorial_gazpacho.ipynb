{
 "cells": [
  {
   "cell_type": "code",
   "execution_count": 1,
   "id": "871629f1",
   "metadata": {},
   "outputs": [],
   "source": [
    "from gazpacho import get, Soup\n",
    "import pandas as pd"
   ]
  },
  {
   "cell_type": "code",
   "execution_count": 2,
   "id": "cd72c3df",
   "metadata": {},
   "outputs": [],
   "source": [
    "url = \"https://pypi.org/project/pandas/#history\"\n",
    "\n",
    "html = get(url)"
   ]
  },
  {
   "cell_type": "code",
   "execution_count": 3,
   "id": "5e519f5a",
   "metadata": {},
   "outputs": [],
   "source": [
    "soup = Soup(html)"
   ]
  },
  {
   "cell_type": "code",
   "execution_count": 4,
   "id": "cb3c687a",
   "metadata": {},
   "outputs": [],
   "source": [
    "cards = soup.find('a', {'class': 'card'})"
   ]
  },
  {
   "cell_type": "code",
   "execution_count": 6,
   "id": "41c35056",
   "metadata": {},
   "outputs": [
    {
     "data": {
      "text/plain": [
       "[<a class=\"card release__card\" href=\"/project/pandas/1.5.3/\">\n",
       "   <p class=\"release__version\">\n",
       "                   1.5.3\n",
       "                 </p>\n",
       "   <p class=\"release__version-date\">\n",
       "     <time datetime=\"2023-01-19T08:29:07+0000\" data-controller=\"localized-time\" data-localized-time-relative=\"true\" data-localized-time-show-time=\"false\">\n",
       "   Jan 19, 2023\n",
       " </time>\n",
       "   </p>\n",
       " </a>,\n",
       " <a class=\"card release__card\" href=\"/project/pandas/1.5.2/\">\n",
       "   <p class=\"release__version\">\n",
       "                   1.5.2\n",
       "                 </p>\n",
       "   <p class=\"release__version-date\">\n",
       "     <time datetime=\"2022-11-23T05:49:21+0000\" data-controller=\"localized-time\" data-localized-time-relative=\"true\" data-localized-time-show-time=\"false\">\n",
       "   Nov 23, 2022\n",
       " </time>\n",
       "   </p>\n",
       " </a>,\n",
       " <a class=\"card release__card\" href=\"/project/pandas/1.5.1/\">\n",
       "   <p class=\"release__version\">\n",
       "                   1.5.1\n",
       "                 </p>\n",
       "   <p class=\"release__version-date\">\n",
       "     <time datetime=\"2022-10-19T06:28:51+0000\" data-controller=\"localized-time\" data-localized-time-relative=\"true\" data-localized-time-show-time=\"false\">\n",
       "   Oct 19, 2022\n",
       " </time>\n",
       "   </p>\n",
       " </a>]"
      ]
     },
     "execution_count": 6,
     "metadata": {},
     "output_type": "execute_result"
    }
   ],
   "source": [
    "cards[:3]"
   ]
  },
  {
   "cell_type": "code",
   "execution_count": 7,
   "id": "d4465b13",
   "metadata": {},
   "outputs": [
    {
     "data": {
      "text/plain": [
       "'1.5.3'"
      ]
     },
     "execution_count": 7,
     "metadata": {},
     "output_type": "execute_result"
    }
   ],
   "source": [
    "cards[0].find(\"p\", {\"class\": \"release__version\"}, partial=False).text"
   ]
  },
  {
   "cell_type": "code",
   "execution_count": 8,
   "id": "c955137a",
   "metadata": {},
   "outputs": [],
   "source": [
    "def parse_card(card):\n",
    "    version = card.find(\"p\", {\"class\": \"release__version\"}, partial=False).text\n",
    "    timestamp = card.find(\"time\").attrs['datetime']\n",
    "    return {\"version\": version, \"timestamp\": timestamp}"
   ]
  },
  {
   "cell_type": "code",
   "execution_count": 9,
   "id": "8d658cda",
   "metadata": {},
   "outputs": [
    {
     "data": {
      "text/html": [
       "<div>\n",
       "<style scoped>\n",
       "    .dataframe tbody tr th:only-of-type {\n",
       "        vertical-align: middle;\n",
       "    }\n",
       "\n",
       "    .dataframe tbody tr th {\n",
       "        vertical-align: top;\n",
       "    }\n",
       "\n",
       "    .dataframe thead th {\n",
       "        text-align: right;\n",
       "    }\n",
       "</style>\n",
       "<table border=\"1\" class=\"dataframe\">\n",
       "  <thead>\n",
       "    <tr style=\"text-align: right;\">\n",
       "      <th></th>\n",
       "      <th>version</th>\n",
       "      <th>timestamp</th>\n",
       "    </tr>\n",
       "  </thead>\n",
       "  <tbody>\n",
       "    <tr>\n",
       "      <th>0</th>\n",
       "      <td>1.5.3</td>\n",
       "      <td>2023-01-19 08:29:07+00:00</td>\n",
       "    </tr>\n",
       "    <tr>\n",
       "      <th>1</th>\n",
       "      <td>1.5.2</td>\n",
       "      <td>2022-11-23 05:49:21+00:00</td>\n",
       "    </tr>\n",
       "    <tr>\n",
       "      <th>2</th>\n",
       "      <td>1.5.1</td>\n",
       "      <td>2022-10-19 06:28:51+00:00</td>\n",
       "    </tr>\n",
       "    <tr>\n",
       "      <th>3</th>\n",
       "      <td>1.5.0</td>\n",
       "      <td>2022-09-19 15:53:13+00:00</td>\n",
       "    </tr>\n",
       "    <tr>\n",
       "      <th>4</th>\n",
       "      <td>1.5.0rc0</td>\n",
       "      <td>2022-08-24 12:06:35+00:00</td>\n",
       "    </tr>\n",
       "    <tr>\n",
       "      <th>...</th>\n",
       "      <td>...</td>\n",
       "      <td>...</td>\n",
       "    </tr>\n",
       "    <tr>\n",
       "      <th>88</th>\n",
       "      <td>0.4.1</td>\n",
       "      <td>2011-09-26 01:22:28+00:00</td>\n",
       "    </tr>\n",
       "    <tr>\n",
       "      <th>89</th>\n",
       "      <td>0.4.0</td>\n",
       "      <td>2011-09-12 19:41:11+00:00</td>\n",
       "    </tr>\n",
       "    <tr>\n",
       "      <th>90</th>\n",
       "      <td>0.3.0</td>\n",
       "      <td>2011-02-20 01:00:04+00:00</td>\n",
       "    </tr>\n",
       "    <tr>\n",
       "      <th>91</th>\n",
       "      <td>0.2</td>\n",
       "      <td>2010-05-18 13:14:26+00:00</td>\n",
       "    </tr>\n",
       "    <tr>\n",
       "      <th>92</th>\n",
       "      <td>0.1</td>\n",
       "      <td>2009-12-25 22:55:48+00:00</td>\n",
       "    </tr>\n",
       "  </tbody>\n",
       "</table>\n",
       "<p>93 rows × 2 columns</p>\n",
       "</div>"
      ],
      "text/plain": [
       "     version                 timestamp\n",
       "0      1.5.3 2023-01-19 08:29:07+00:00\n",
       "1      1.5.2 2022-11-23 05:49:21+00:00\n",
       "2      1.5.1 2022-10-19 06:28:51+00:00\n",
       "3      1.5.0 2022-09-19 15:53:13+00:00\n",
       "4   1.5.0rc0 2022-08-24 12:06:35+00:00\n",
       "..       ...                       ...\n",
       "88     0.4.1 2011-09-26 01:22:28+00:00\n",
       "89     0.4.0 2011-09-12 19:41:11+00:00\n",
       "90     0.3.0 2011-02-20 01:00:04+00:00\n",
       "91       0.2 2010-05-18 13:14:26+00:00\n",
       "92       0.1 2009-12-25 22:55:48+00:00\n",
       "\n",
       "[93 rows x 2 columns]"
      ]
     },
     "execution_count": 9,
     "metadata": {},
     "output_type": "execute_result"
    }
   ],
   "source": [
    "(pd.DataFrame([parse_card(c) for c in cards])\n",
    " .assign(timestamp=lambda d: pd.to_datetime(d['timestamp'])))"
   ]
  },
  {
   "cell_type": "code",
   "execution_count": null,
   "id": "fbc79fb0",
   "metadata": {},
   "outputs": [],
   "source": []
  }
 ],
 "metadata": {
  "kernelspec": {
   "display_name": "Python Data",
   "language": "python",
   "name": "data"
  },
  "language_info": {
   "codemirror_mode": {
    "name": "ipython",
    "version": 3
   },
   "file_extension": ".py",
   "mimetype": "text/x-python",
   "name": "python",
   "nbconvert_exporter": "python",
   "pygments_lexer": "ipython3",
   "version": "3.9.15"
  }
 },
 "nbformat": 4,
 "nbformat_minor": 5
}
