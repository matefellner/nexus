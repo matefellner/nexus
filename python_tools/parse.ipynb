{
 "cells": [
  {
   "cell_type": "code",
   "execution_count": 1,
   "id": "0e3a6bd4-a408-483f-860a-bd0c7c60fe55",
   "metadata": {},
   "outputs": [
    {
     "name": "stdout",
     "output_type": "stream",
     "text": [
      "github.com/koaning/scikit-lego/\n"
     ]
    }
   ],
   "source": [
    "txt = \"github.com/{user}/{repo}/\"\n",
    "\n",
    "print(txt.format(user=\"koaning\", repo=\"scikit-lego\"))"
   ]
  },
  {
   "cell_type": "code",
   "execution_count": 2,
   "id": "2393d979-0b91-41ac-9484-34bf24f466e5",
   "metadata": {},
   "outputs": [
    {
     "name": "stdout",
     "output_type": "stream",
     "text": [
      "github.com/koaning/scikit-lego/\n"
     ]
    }
   ],
   "source": [
    "user = \"koaning\"\n",
    "repo = \"scikit-lego\"\n",
    "\n",
    "print(f\"github.com/{user}/{repo}/\")"
   ]
  },
  {
   "cell_type": "code",
   "execution_count": 3,
   "id": "6fd74d07-8fb3-4b6b-97e5-f395b06130db",
   "metadata": {},
   "outputs": [],
   "source": [
    "# reverse"
   ]
  },
  {
   "cell_type": "code",
   "execution_count": 4,
   "id": "606556a9-32dd-4702-9341-2298bacbc4d7",
   "metadata": {},
   "outputs": [],
   "source": [
    "# %pip install parse"
   ]
  },
  {
   "cell_type": "code",
   "execution_count": 5,
   "id": "6f6ee12b-e53c-4394-bf87-8f1071e29e31",
   "metadata": {},
   "outputs": [
    {
     "data": {
      "text/plain": [
       "[{'owner': 'koaning', 'repo': 'justcharts'},\n",
       " {'owner': 'koaning', 'repo': 'human-learn'},\n",
       " {'owner': 'r1chardj0n3s', 'repo': 'parse'}]"
      ]
     },
     "execution_count": 5,
     "metadata": {},
     "output_type": "execute_result"
    }
   ],
   "source": [
    "from parse import parse\n",
    "\n",
    "githubs = [\n",
    "    \"https://github.com/koaning/justcharts/\",\n",
    "    \"https://github.com/koaning/human-learn/\",\n",
    "    \"https://github.com/r1chardj0n3s/parse/\",\n",
    "]\n",
    "\n",
    "[parse(\"https://github.com/{owner}/{repo}/\", url).named for url in githubs]"
   ]
  },
  {
   "cell_type": "code",
   "execution_count": 7,
   "id": "04d2dba7-c693-4ca3-adb7-04a6eb584ac9",
   "metadata": {},
   "outputs": [],
   "source": [
    "from parse import search\n",
    "\n",
    "# This will return `None`\n",
    "parse(\"https://github.com/{account}/{project}/\",\n",
    "      \"foo https://github.com/koaning/scikit-lego/\")"
   ]
  },
  {
   "cell_type": "code",
   "execution_count": 8,
   "id": "015c5273-32fd-4b44-b34b-f2806e8d875b",
   "metadata": {},
   "outputs": [
    {
     "data": {
      "text/plain": [
       "<Result () {'account': 'koaning', 'project': 'scikit-lego'}>"
      ]
     },
     "execution_count": 8,
     "metadata": {},
     "output_type": "execute_result"
    }
   ],
   "source": [
    "# This will match just fine.\n",
    "search(\"https://github.com/{account}/{project}/\",\n",
    "       \"foo https://github.com/koaning/scikit-lego/\")"
   ]
  },
  {
   "cell_type": "code",
   "execution_count": 9,
   "id": "c2c21636-16c8-4683-af19-887c37223165",
   "metadata": {},
   "outputs": [
    {
     "data": {
      "text/plain": [
       "[<Result () {'account': 'koaning', 'project': 'human-learn'}>,\n",
       " <Result () {'account': 'koaning', 'project': 'scikit-lego'}>]"
      ]
     },
     "execution_count": 9,
     "metadata": {},
     "output_type": "execute_result"
    }
   ],
   "source": [
    "from parse import findall\n",
    "\n",
    "fmt = \"https://github.com/{account}/{project}/\"\n",
    "txt = \"https://github.com/koaning/human-learn/ https://github.com/koaning/scikit-lego/\"\n",
    "res = findall(fmt, txt)\n",
    "\n",
    "# This returns two results\n",
    "list(res)\n"
   ]
  },
  {
   "cell_type": "code",
   "execution_count": 10,
   "id": "1f0499d6-244f-48f5-9e4c-0a9bf8e8d05e",
   "metadata": {},
   "outputs": [
    {
     "data": {
      "text/plain": [
       "<parse.ResultIterator at 0x7f0d3c26bd00>"
      ]
     },
     "execution_count": 10,
     "metadata": {},
     "output_type": "execute_result"
    }
   ],
   "source": [
    "from parse import compile\n",
    "\n",
    "p = compile(\"https://github.com/{account}/{project}/\")\n",
    "\n",
    "txt = \"https://github.com/koaning/scikit-lego/\"\n",
    "p.parse(txt)\n",
    "\n",
    "txt = \"foo https://github.com/koaning/scikit-lego/\"\n",
    "p.search(txt)\n",
    "\n",
    "txt = \"https://github.com/koaning/scikit-lego/ https://github.com/koaning/scikit-lego/\"\n",
    "p.findall(txt)"
   ]
  },
  {
   "cell_type": "code",
   "execution_count": null,
   "id": "829f500d-fce4-4877-9d89-ed536daa3e2a",
   "metadata": {},
   "outputs": [],
   "source": []
  }
 ],
 "metadata": {
  "kernelspec": {
   "display_name": "Python (data)",
   "language": "python",
   "name": "data_env"
  },
  "language_info": {
   "codemirror_mode": {
    "name": "ipython",
    "version": 3
   },
   "file_extension": ".py",
   "mimetype": "text/x-python",
   "name": "python",
   "nbconvert_exporter": "python",
   "pygments_lexer": "ipython3",
   "version": "3.9.15"
  }
 },
 "nbformat": 4,
 "nbformat_minor": 5
}
