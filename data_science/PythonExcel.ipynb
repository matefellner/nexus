{
 "cells": [
  {
   "cell_type": "code",
   "execution_count": 1,
   "id": "cc39f223",
   "metadata": {},
   "outputs": [],
   "source": [
    "from openpyxl import load_workbook\n",
    "from openpyxl.utils import get_column_letter, column_index_from_string\n",
    "import pandas as pd"
   ]
  },
  {
   "cell_type": "code",
   "execution_count": null,
   "id": "6293c541",
   "metadata": {},
   "outputs": [],
   "source": [
    "wb = load_workbook('test.xlsx')\n",
    "\n",
    "print(wb.sheetnames)\n",
    "# ['Sheet1', 'Sheet2', 'Sheet3']\n",
    "\n",
    "sheet = wb['Sheet1']\n",
    "print('Sheet Title:',sheet.title)\n",
    "\n",
    "anotherSheet = wb.active\n",
    "\n",
    "print(sheet['A1'].value)\n",
    "c = sheet['B3']\n",
    "print('Row No.:', c.row)\n",
    "print('Column Letter:', c.column)\n",
    "print('Coordinates of cell:', c.coordinate)\n",
    "print(sheet.cell(row=1, column=2).value)"
   ]
  },
  {
   "cell_type": "code",
   "execution_count": null,
   "id": "6f35844e",
   "metadata": {},
   "outputs": [],
   "source": [
    "print('Column Letter:', get_column_letter(1))\n",
    "# returns A\n",
    "# \n",
    "print('Column Index:', column_index_from_string('A'))\n",
    "# returns 1\n",
    "# \n",
    "for cellObj in sheet['A1':'C3']:\n",
    "    for cell in cellObj:\n",
    "        print(cell.coordinate, cell.value)\n",
    "\n",
    "print('Max Rows:', sheet.max_row)\n",
    "\n",
    "print('Max Columns:', sheet.max_column)\n",
    "\n",
    "# to pandas:\n",
    "df = pd.DataFrame(sheet.values)"
   ]
  }
 ],
 "metadata": {
  "kernelspec": {
   "display_name": "Python 3",
   "language": "python",
   "name": "python3"
  },
  "language_info": {
   "codemirror_mode": {
    "name": "ipython",
    "version": 3
   },
   "file_extension": ".py",
   "mimetype": "text/x-python",
   "name": "python",
   "nbconvert_exporter": "python",
   "pygments_lexer": "ipython3",
   "version": "3.8.8"
  }
 },
 "nbformat": 4,
 "nbformat_minor": 5
}
