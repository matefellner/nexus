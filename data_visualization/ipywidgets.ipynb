{
 "cells": [
  {
   "cell_type": "code",
   "execution_count": 1,
   "id": "902c24bc-4108-4108-83e0-e1c45cbdc0c7",
   "metadata": {},
   "outputs": [
    {
     "data": {
      "application/vnd.jupyter.widget-view+json": {
       "model_id": "085304ee3a684ecfb4b9b142fafaf95b",
       "version_major": 2,
       "version_minor": 0
      },
      "text/plain": [
       "interactive(children=(FloatSlider(value=0.091, description='p', max=0.2, min=0.001, step=0.01), Output()), _do…"
      ]
     },
     "metadata": {},
     "output_type": "display_data"
    }
   ],
   "source": [
    "from ipywidgets import interact\n",
    "\n",
    "import numpy as np\n",
    "import matplotlib.pylab as plt\n",
    "\n",
    "@interact(p=(0.001, 0.2, 0.01))\n",
    "def f(p):\n",
    "    n = np.linspace(1, 100, 100)\n",
    "    plt.plot(n, n*0.02*(1-0.02)**n, label=\"p=0.02\");\n",
    "    plt.plot(n, n*p*(1-p)**n, label=f\"p={np.round(p, 3)}\");\n",
    "    plt.legend()"
   ]
  },
  {
   "cell_type": "code",
   "execution_count": 4,
   "id": "7bdf93a3-21e2-4bd4-9b5e-1e2833ae1668",
   "metadata": {},
   "outputs": [
    {
     "data": {
      "application/vnd.jupyter.widget-view+json": {
       "model_id": "9316df9131774b28aae06c03159400b8",
       "version_major": 2,
       "version_minor": 0
      },
      "text/plain": [
       "VBox(children=(HTMLMath(value=\"Let's play around with the following formula: <br> $$ np(1-p)^2 $$ </br>\"), Flo…"
      ]
     },
     "metadata": {},
     "output_type": "display_data"
    }
   ],
   "source": [
    "from ipywidgets import widgets\n",
    "\n",
    "p = widgets.FloatSlider(\n",
    "    value=0.02,\n",
    "    min=0.01,\n",
    "    max=0.20,\n",
    "    step=0.001,\n",
    "    description='$$p$$',\n",
    "    readout=True,\n",
    "    readout_format='.3f',\n",
    ")\n",
    "\n",
    "html = widgets.HTMLMath(\n",
    "    value=f\"Let's play around with the following formula: <br> $$ np(1-p)^2 $$ </br>\",\n",
    ")\n",
    "\n",
    "def f(p):\n",
    "    n = np.linspace(1, 100, 100)\n",
    "    plt.plot(n, n*0.02*(1-0.02)**n, label=\"p=0.02\");\n",
    "    plt.plot(n, n*p*(1-p)**n, label=f\"p={np.round(p, 3)}\");\n",
    "    plt.legend()\n",
    "\n",
    "out = widgets.interactive_output(f, {'p': p})\n",
    "\n",
    "widgets.VBox([html, p, out])"
   ]
  },
  {
   "cell_type": "code",
   "execution_count": 5,
   "id": "2dd5492c-5d2e-4dd0-89ca-fd37f8156e68",
   "metadata": {},
   "outputs": [
    {
     "data": {
      "application/vnd.jupyter.widget-view+json": {
       "model_id": "cb042581333e41f7a8f4008b6f22365a",
       "version_major": 2,
       "version_minor": 0
      },
      "text/plain": [
       "VBox(children=(Text(value=''), Output()))"
      ]
     },
     "metadata": {},
     "output_type": "display_data"
    }
   ],
   "source": [
    "import pandas as pd\n",
    "import ipywidgets as widgets\n",
    "\n",
    "df = pd.read_json(\"https://calmcode.io/datasets/pokemon.jsonl\",\n",
    "                  lines=True,\n",
    "                  orient=\"record\")\n",
    "\n",
    "def reduce(q):\n",
    "    subset = df.loc[lambda d: d['name'].str.contains(q)]\n",
    "    display(subset)\n",
    "\n",
    "q = widgets.Text()\n",
    "\n",
    "out = widgets.interactive_output(reduce, {'q': q})\n",
    "\n",
    "widgets.VBox([q, out])\n"
   ]
  },
  {
   "cell_type": "code",
   "execution_count": 6,
   "id": "f8f1eebe-db3f-40e7-92c8-a1704ee98c12",
   "metadata": {},
   "outputs": [
    {
     "data": {
      "application/vnd.jupyter.widget-view+json": {
       "model_id": "fa637bd73b2c48fa89a4dddcf0491ab4",
       "version_major": 2,
       "version_minor": 0
      },
      "text/plain": [
       "HBox(children=(Button(description='Click Me!', style=ButtonStyle()), Output()))"
      ]
     },
     "metadata": {},
     "output_type": "display_data"
    }
   ],
   "source": [
    "button = widgets.Button(description=\"Click Me!\")\n",
    "output = widgets.Output()\n",
    "\n",
    "def on_button_clicked(b):\n",
    "    r = np.random.normal(0, 1, 1)\n",
    "    with output:\n",
    "        output.clear_output()\n",
    "        x1 = np.random.normal(r, 1.0, 1_000_000)\n",
    "        plt.hist(x1, bins=30, label=\"standard\", alpha=0.6)\n",
    "        plt.title(f\"r={r[0]}\")\n",
    "        plt.show()\n",
    "\n",
    "button.on_click(on_button_clicked)\n",
    "\n",
    "widgets.HBox([button, output])"
   ]
  },
  {
   "cell_type": "code",
   "execution_count": 7,
   "id": "95646743-7b55-4b39-9dfe-797ff76b7846",
   "metadata": {},
   "outputs": [
    {
     "data": {
      "application/vnd.jupyter.widget-view+json": {
       "model_id": "9d7ae5b6abaa4e1bb5a01a4f90223591",
       "version_major": 2,
       "version_minor": 0
      },
      "text/plain": [
       "HBox(children=(VBox(children=(FloatSlider(value=5.0, description='$$\\\\mu$$', max=10.0), FloatSlider(value=3.0,…"
      ]
     },
     "metadata": {},
     "output_type": "display_data"
    }
   ],
   "source": [
    "slider_mu = widgets.FloatSlider(\n",
    "    value=5,\n",
    "    min=0,\n",
    "    max=10,\n",
    "    step=0.1,\n",
    "    description='$$\\mu$$'\n",
    ")\n",
    "slider_sigma = widgets.FloatSlider(\n",
    "    value=5,\n",
    "    min=0,\n",
    "    max=3,\n",
    "    step=0.1,\n",
    "    description='$$\\sigma$$'\n",
    ")\n",
    "\n",
    "btn = widgets.Button(\n",
    "    description='Run',\n",
    "    icon='check'\n",
    ")\n",
    "\n",
    "out = widgets.Output()\n",
    "\n",
    "def on_button_clicked(b):\n",
    "    with out:\n",
    "        out.clear_output()\n",
    "        x1 = np.random.normal(0.0, 1.0, 10_000_000)\n",
    "        x2 = np.random.normal(slider_mu.value, slider_sigma.value, 10_000_000)\n",
    "        plt.hist(x1, bins=30, label=\"standard\", alpha=0.6)\n",
    "        plt.hist(x2, bins=30, label=\"new\", alpha=0.6)\n",
    "        plt.legend()\n",
    "        plt.show()\n",
    "\n",
    "btn.on_click(on_button_clicked)\n",
    "\n",
    "sliders = widgets.VBox([slider_mu, slider_sigma, btn])\n",
    "widgets.HBox([sliders, out])"
   ]
  },
  {
   "cell_type": "code",
   "execution_count": null,
   "id": "5d32ad86-c697-4982-aede-344c8fd2dc9e",
   "metadata": {},
   "outputs": [],
   "source": []
  }
 ],
 "metadata": {
  "kernelspec": {
   "display_name": "Python (visu)",
   "language": "python",
   "name": "visu_env"
  },
  "language_info": {
   "codemirror_mode": {
    "name": "ipython",
    "version": 3
   },
   "file_extension": ".py",
   "mimetype": "text/x-python",
   "name": "python",
   "nbconvert_exporter": "python",
   "pygments_lexer": "ipython3",
   "version": "3.9.15"
  }
 },
 "nbformat": 4,
 "nbformat_minor": 5
}
