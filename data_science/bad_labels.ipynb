{
 "cells": [
  {
   "cell_type": "markdown",
   "id": "93c1935b-14e6-44d5-9441-28e861d51ca0",
   "metadata": {},
   "source": [
    "# Bad labels\n",
    "\n",
    "Pervasive Label Errors in Test Sets Destabilize Machine Learning Benchmarks\n",
    "\n",
    "https://arxiv.org/abs/2103.14749\n"
   ]
  },
  {
   "cell_type": "code",
   "execution_count": 13,
   "id": "15b61306-fcf4-4261-baea-adc7de782553",
   "metadata": {},
   "outputs": [
    {
     "name": "stdout",
     "output_type": "stream",
     "text": [
      "Collecting cleanlab\n",
      "  Downloading cleanlab-1.0-py2.py3-none-any.whl (77 kB)\n",
      "\u001b[K     |████████████████████████████████| 77 kB 1.9 MB/s eta 0:00:011\n",
      "\u001b[?25hRequirement already satisfied: scikit-learn>=0.18 in /home/fellner/anaconda3/lib/python3.8/site-packages (from cleanlab) (0.24.1)\n",
      "Requirement already satisfied: tqdm>=4.53.0 in /home/fellner/anaconda3/lib/python3.8/site-packages (from cleanlab) (4.59.0)\n",
      "Requirement already satisfied: numpy>=1.11.3 in /home/fellner/anaconda3/lib/python3.8/site-packages (from cleanlab) (1.20.1)\n",
      "Requirement already satisfied: scipy>=1.1.0 in /home/fellner/anaconda3/lib/python3.8/site-packages (from cleanlab) (1.6.2)\n",
      "Requirement already satisfied: joblib>=0.11 in /home/fellner/anaconda3/lib/python3.8/site-packages (from scikit-learn>=0.18->cleanlab) (1.0.1)\n",
      "Requirement already satisfied: threadpoolctl>=2.0.0 in /home/fellner/anaconda3/lib/python3.8/site-packages (from scikit-learn>=0.18->cleanlab) (2.1.0)\n",
      "Installing collected packages: cleanlab\n",
      "Successfully installed cleanlab-1.0\n",
      "Note: you may need to restart the kernel to use updated packages.\n"
     ]
    }
   ],
   "source": [
    "%pip install cleanlab"
   ]
  },
  {
   "cell_type": "code",
   "execution_count": 1,
   "id": "0d229532-8352-45d8-ad96-54862aaad735",
   "metadata": {},
   "outputs": [],
   "source": [
    "import pandas as pd\n",
    "\n",
    "from sklearn.pipeline import make_pipeline\n",
    "from sklearn.linear_model import LogisticRegression\n",
    "from sklearn.feature_extraction.text import CountVectorizer\n",
    "\n",
    "df = pd.read_csv(\"./../data/goemotions/full_dataset/goemotions_1.csv\")"
   ]
  },
  {
   "cell_type": "code",
   "execution_count": 2,
   "id": "e5ada449-78c8-47bb-8397-23cfa2b5c578",
   "metadata": {},
   "outputs": [
    {
     "data": {
      "text/plain": [
       "Index(['text', 'id', 'author', 'subreddit', 'link_id', 'parent_id',\n",
       "       'created_utc', 'rater_id', 'example_very_unclear', 'admiration',\n",
       "       'amusement', 'anger', 'annoyance', 'approval', 'caring', 'confusion',\n",
       "       'curiosity', 'desire', 'disappointment', 'disapproval', 'disgust',\n",
       "       'embarrassment', 'excitement', 'fear', 'gratitude', 'grief', 'joy',\n",
       "       'love', 'nervousness', 'optimism', 'pride', 'realization', 'relief',\n",
       "       'remorse', 'sadness', 'surprise', 'neutral'],\n",
       "      dtype='object')"
      ]
     },
     "execution_count": 2,
     "metadata": {},
     "output_type": "execute_result"
    }
   ],
   "source": [
    "df.columns"
   ]
  },
  {
   "cell_type": "code",
   "execution_count": 3,
   "id": "f63961e9-89fa-4491-b2c2-53b92ca1fd81",
   "metadata": {},
   "outputs": [
    {
     "data": {
      "text/html": [
       "<div>\n",
       "<style scoped>\n",
       "    .dataframe tbody tr th:only-of-type {\n",
       "        vertical-align: middle;\n",
       "    }\n",
       "\n",
       "    .dataframe tbody tr th {\n",
       "        vertical-align: top;\n",
       "    }\n",
       "\n",
       "    .dataframe thead th {\n",
       "        text-align: right;\n",
       "    }\n",
       "</style>\n",
       "<table border=\"1\" class=\"dataframe\">\n",
       "  <thead>\n",
       "    <tr style=\"text-align: right;\">\n",
       "      <th></th>\n",
       "      <th>text</th>\n",
       "      <th>excitement</th>\n",
       "    </tr>\n",
       "  </thead>\n",
       "  <tbody>\n",
       "    <tr>\n",
       "      <th>51781</th>\n",
       "      <td>Happy birthday!</td>\n",
       "      <td>1</td>\n",
       "    </tr>\n",
       "    <tr>\n",
       "      <th>60473</th>\n",
       "      <td>I’m feeling very excited !</td>\n",
       "      <td>1</td>\n",
       "    </tr>\n",
       "  </tbody>\n",
       "</table>\n",
       "</div>"
      ],
      "text/plain": [
       "                             text  excitement\n",
       "51781             Happy birthday!           1\n",
       "60473  I’m feeling very excited !           1"
      ]
     },
     "execution_count": 3,
     "metadata": {},
     "output_type": "execute_result"
    }
   ],
   "source": [
    "pd.set_option('display.max_colwidth', None)\n",
    "\n",
    "df[['text', 'excitement']].loc[lambda d: d['excitement'] == 1].sample(2)"
   ]
  },
  {
   "cell_type": "code",
   "execution_count": 4,
   "id": "3d241562-6a23-456f-8c0d-dbc5c4dfd0b6",
   "metadata": {},
   "outputs": [
    {
     "data": {
      "text/plain": [
       "0    68100\n",
       "1     1900\n",
       "Name: excitement, dtype: int64"
      ]
     },
     "execution_count": 4,
     "metadata": {},
     "output_type": "execute_result"
    }
   ],
   "source": [
    "# Class imbalance\n",
    "\n",
    "df['excitement'].value_counts()"
   ]
  },
  {
   "cell_type": "code",
   "execution_count": 5,
   "id": "9c52aeb4-fd00-4c60-aa35-3cf8e478b54d",
   "metadata": {},
   "outputs": [
    {
     "data": {
      "text/plain": [
       "Pipeline(steps=[('countvectorizer', CountVectorizer()),\n",
       "                ('logisticregression',\n",
       "                 LogisticRegression(class_weight='balanced', max_iter=1000))])"
      ]
     },
     "execution_count": 5,
     "metadata": {},
     "output_type": "execute_result"
    }
   ],
   "source": [
    "X, y = df['text'], df['excitement']\n",
    "\n",
    "pipe = make_pipeline(\n",
    "    CountVectorizer(),\n",
    "    LogisticRegression(class_weight='balanced', max_iter=1000)\n",
    ")\n",
    "\n",
    "pipe.fit(X, y)\n"
   ]
  },
  {
   "cell_type": "markdown",
   "id": "725ca43c-4085-45c2-89e4-2d0bbd542eee",
   "metadata": {},
   "source": [
    "## Predicted probabilities"
   ]
  },
  {
   "cell_type": "code",
   "execution_count": 6,
   "id": "5fd7fb7e-9c04-41c5-a9b2-413304132ee0",
   "metadata": {},
   "outputs": [
    {
     "data": {
      "text/plain": [
       "array([[0.81906041, 0.18093959],\n",
       "       [0.87337141, 0.12662859],\n",
       "       [0.99887467, 0.00112533],\n",
       "       ...,\n",
       "       [0.9576734 , 0.0423266 ],\n",
       "       [0.89403891, 0.10596109],\n",
       "       [0.97989256, 0.02010744]])"
      ]
     },
     "execution_count": 6,
     "metadata": {},
     "output_type": "execute_result"
    }
   ],
   "source": [
    "pipe.predict_proba(X)"
   ]
  },
  {
   "cell_type": "code",
   "execution_count": 7,
   "id": "0b184d73-2fa5-4e8b-b5d1-0a7d9a731eb8",
   "metadata": {},
   "outputs": [
    {
     "data": {
      "text/html": [
       "<div>\n",
       "<style scoped>\n",
       "    .dataframe tbody tr th:only-of-type {\n",
       "        vertical-align: middle;\n",
       "    }\n",
       "\n",
       "    .dataframe tbody tr th {\n",
       "        vertical-align: top;\n",
       "    }\n",
       "\n",
       "    .dataframe thead th {\n",
       "        text-align: right;\n",
       "    }\n",
       "</style>\n",
       "<table border=\"1\" class=\"dataframe\">\n",
       "  <thead>\n",
       "    <tr style=\"text-align: right;\">\n",
       "      <th></th>\n",
       "      <th>text</th>\n",
       "      <th>excitement</th>\n",
       "    </tr>\n",
       "  </thead>\n",
       "  <tbody>\n",
       "    <tr>\n",
       "      <th>8</th>\n",
       "      <td>that's adorable asf</td>\n",
       "      <td>0</td>\n",
       "    </tr>\n",
       "    <tr>\n",
       "      <th>46</th>\n",
       "      <td>If there’s a pattern, yes.</td>\n",
       "      <td>0</td>\n",
       "    </tr>\n",
       "    <tr>\n",
       "      <th>107</th>\n",
       "      <td>My fans on patreon will be rewarded soon</td>\n",
       "      <td>0</td>\n",
       "    </tr>\n",
       "    <tr>\n",
       "      <th>154</th>\n",
       "      <td>Ones with close ties to SA, anyway. An escaped apostate won't exactly be itching to run home.</td>\n",
       "      <td>0</td>\n",
       "    </tr>\n",
       "    <tr>\n",
       "      <th>158</th>\n",
       "      <td>I really like this ring so I’m glad to hear that.</td>\n",
       "      <td>0</td>\n",
       "    </tr>\n",
       "    <tr>\n",
       "      <th>262</th>\n",
       "      <td>OMG THOSE TINY SHOES! *desire to boop snoot intensifies*</td>\n",
       "      <td>0</td>\n",
       "    </tr>\n",
       "    <tr>\n",
       "      <th>362</th>\n",
       "      <td>This. I relate to this. So much. Almost too much.</td>\n",
       "      <td>0</td>\n",
       "    </tr>\n",
       "  </tbody>\n",
       "</table>\n",
       "</div>"
      ],
      "text/plain": [
       "                                                                                              text  \\\n",
       "8                                                                              that's adorable asf   \n",
       "46                                                                      If there’s a pattern, yes.   \n",
       "107                                                       My fans on patreon will be rewarded soon   \n",
       "154  Ones with close ties to SA, anyway. An escaped apostate won't exactly be itching to run home.   \n",
       "158                                              I really like this ring so I’m glad to hear that.   \n",
       "262                                       OMG THOSE TINY SHOES! *desire to boop snoot intensifies*   \n",
       "362                                              This. I relate to this. So much. Almost too much.   \n",
       "\n",
       "     excitement  \n",
       "8             0  \n",
       "46            0  \n",
       "107           0  \n",
       "154           0  \n",
       "158           0  \n",
       "262           0  \n",
       "362           0  "
      ]
     },
     "execution_count": 7,
     "metadata": {},
     "output_type": "execute_result"
    }
   ],
   "source": [
    "# make predictions\n",
    "probas = pipe.predict_proba(X)[:, 0]\n",
    "\n",
    "# use predictions in hindsight, note that\n",
    "# probas.shape[0] == df.shape[0]\n",
    "(df\n",
    "  .loc[(probas > 0.45) & (probas < 0.55)]\n",
    "  [['text', 'excitement']]\n",
    "  .head(7))"
   ]
  },
  {
   "cell_type": "markdown",
   "id": "e19c4b5e-51c2-4305-b330-2e907e155e48",
   "metadata": {},
   "source": [
    "## Model disagreement"
   ]
  },
  {
   "cell_type": "code",
   "execution_count": 8,
   "id": "b212ada0-2429-44ac-a071-6d74431136ae",
   "metadata": {},
   "outputs": [
    {
     "data": {
      "text/plain": [
       "(5314, 37)"
      ]
     },
     "execution_count": 8,
     "metadata": {},
     "output_type": "execute_result"
    }
   ],
   "source": [
    "df.loc[lambda d: d['excitement'] != pipe.predict(X)].shape"
   ]
  },
  {
   "cell_type": "code",
   "execution_count": 9,
   "id": "b2d4fbfc-fa01-4efc-b9a9-bc310faae143",
   "metadata": {},
   "outputs": [],
   "source": [
    "def correct_class_confidence(X, y, mod):\n",
    "    \"\"\"\n",
    "    Gives the predicted confidence (or proba) associated\n",
    "    with the correct label `y` from a given model.\n",
    "    \"\"\"\n",
    "    probas = mod.predict_proba(X)\n",
    "    values = []\n",
    "    for i, proba in enumerate(probas):\n",
    "        proba_dict = {mod.classes_[j]: v for j, v in enumerate(proba)}\n",
    "        values.append(proba_dict[y[i]])\n",
    "    return values"
   ]
  },
  {
   "cell_type": "code",
   "execution_count": 10,
   "id": "182f5d6f-0be4-45f3-87d8-9b4f3bda8c0b",
   "metadata": {},
   "outputs": [
    {
     "data": {
      "text/html": [
       "<div>\n",
       "<style scoped>\n",
       "    .dataframe tbody tr th:only-of-type {\n",
       "        vertical-align: middle;\n",
       "    }\n",
       "\n",
       "    .dataframe tbody tr th {\n",
       "        vertical-align: top;\n",
       "    }\n",
       "\n",
       "    .dataframe thead th {\n",
       "        text-align: right;\n",
       "    }\n",
       "</style>\n",
       "<table border=\"1\" class=\"dataframe\">\n",
       "  <thead>\n",
       "    <tr style=\"text-align: right;\">\n",
       "      <th></th>\n",
       "      <th>text</th>\n",
       "      <th>excitement</th>\n",
       "      <th>confidence</th>\n",
       "    </tr>\n",
       "  </thead>\n",
       "  <tbody>\n",
       "    <tr>\n",
       "      <th>5676</th>\n",
       "      <td>I am inexplicably excited by [NAME]. I get so excited by how he curls passes</td>\n",
       "      <td>0</td>\n",
       "      <td>0.000148</td>\n",
       "    </tr>\n",
       "    <tr>\n",
       "      <th>42757</th>\n",
       "      <td>Omg this is so amazing ! Keep up the awesome work and have a fantastic New Year !</td>\n",
       "      <td>0</td>\n",
       "      <td>0.000187</td>\n",
       "    </tr>\n",
       "    <tr>\n",
       "      <th>28707</th>\n",
       "      <td>Omg this is so amazing ! Keep up the awesome work and have a fantastic New Year !</td>\n",
       "      <td>0</td>\n",
       "      <td>0.000187</td>\n",
       "    </tr>\n",
       "    <tr>\n",
       "      <th>24756</th>\n",
       "      <td>Sounds like a fun game. Our home game around here is .05/.10. Its fun but not very exciting.</td>\n",
       "      <td>0</td>\n",
       "      <td>0.000262</td>\n",
       "    </tr>\n",
       "    <tr>\n",
       "      <th>44459</th>\n",
       "      <td>So no replays for arsenal penalty calls.. Cool cool cool cool cool cool cool cool</td>\n",
       "      <td>0</td>\n",
       "      <td>0.000594</td>\n",
       "    </tr>\n",
       "    <tr>\n",
       "      <th>69395</th>\n",
       "      <td>Wow, your posting history is a real... interesting ride.</td>\n",
       "      <td>0</td>\n",
       "      <td>0.000719</td>\n",
       "    </tr>\n",
       "    <tr>\n",
       "      <th>20823</th>\n",
       "      <td>Wow, your posting history is a real... interesting ride.</td>\n",
       "      <td>0</td>\n",
       "      <td>0.000719</td>\n",
       "    </tr>\n",
       "    <tr>\n",
       "      <th>2001</th>\n",
       "      <td>No different than people making a big deal about their team winning the super bowl. People find it interesting.</td>\n",
       "      <td>0</td>\n",
       "      <td>0.000741</td>\n",
       "    </tr>\n",
       "    <tr>\n",
       "      <th>30921</th>\n",
       "      <td>Hey congrats!! That's amazing, you've done such amazing progress! Hope you have a great day :)</td>\n",
       "      <td>0</td>\n",
       "      <td>0.000812</td>\n",
       "    </tr>\n",
       "    <tr>\n",
       "      <th>39475</th>\n",
       "      <td>I just read your list and now I can't wait, either!! Hurry up with the happy, relieved and peaceful onward and upward!! Congratulations😎</td>\n",
       "      <td>0</td>\n",
       "      <td>0.001129</td>\n",
       "    </tr>\n",
       "    <tr>\n",
       "      <th>31370</th>\n",
       "      <td>Wait wait wait... did [NAME] go 61-27??</td>\n",
       "      <td>0</td>\n",
       "      <td>0.001501</td>\n",
       "    </tr>\n",
       "    <tr>\n",
       "      <th>28410</th>\n",
       "      <td>Happy New Year! Looks like you had a great time there! Cheers! Here’s to a great 2019 hopefully in both baseball and life!</td>\n",
       "      <td>0</td>\n",
       "      <td>0.001582</td>\n",
       "    </tr>\n",
       "    <tr>\n",
       "      <th>68537</th>\n",
       "      <td>I absolutely love that idea. I went on an anniversary trip with a couple once and it was amazing! We had so much fun.</td>\n",
       "      <td>0</td>\n",
       "      <td>0.002145</td>\n",
       "    </tr>\n",
       "    <tr>\n",
       "      <th>2656</th>\n",
       "      <td>Why am I excited for the new season</td>\n",
       "      <td>0</td>\n",
       "      <td>0.002789</td>\n",
       "    </tr>\n",
       "    <tr>\n",
       "      <th>46348</th>\n",
       "      <td>Omg yesssss. It’s such an amazing combo</td>\n",
       "      <td>0</td>\n",
       "      <td>0.002806</td>\n",
       "    </tr>\n",
       "    <tr>\n",
       "      <th>30654</th>\n",
       "      <td>Omg yesssss. It’s such an amazing combo</td>\n",
       "      <td>0</td>\n",
       "      <td>0.002806</td>\n",
       "    </tr>\n",
       "    <tr>\n",
       "      <th>32501</th>\n",
       "      <td>Once a week. It was a semi expensive seafood place, but it also had a poppin sports bar/happy hour vibe. An interesting place for sure</td>\n",
       "      <td>0</td>\n",
       "      <td>0.003006</td>\n",
       "    </tr>\n",
       "    <tr>\n",
       "      <th>32841</th>\n",
       "      <td>I hope. Sirens got me excited</td>\n",
       "      <td>0</td>\n",
       "      <td>0.003213</td>\n",
       "    </tr>\n",
       "    <tr>\n",
       "      <th>33600</th>\n",
       "      <td>Happy cake day bro... or ma'am. You have to see this to really take it in.</td>\n",
       "      <td>0</td>\n",
       "      <td>0.003260</td>\n",
       "    </tr>\n",
       "    <tr>\n",
       "      <th>11233</th>\n",
       "      <td>Love situations like this...excited to see if he'll make it by tomorrow</td>\n",
       "      <td>0</td>\n",
       "      <td>0.003309</td>\n",
       "    </tr>\n",
       "  </tbody>\n",
       "</table>\n",
       "</div>"
      ],
      "text/plain": [
       "                                                                                                                                           text  \\\n",
       "5676                                                               I am inexplicably excited by [NAME]. I get so excited by how he curls passes   \n",
       "42757                                                         Omg this is so amazing ! Keep up the awesome work and have a fantastic New Year !   \n",
       "28707                                                         Omg this is so amazing ! Keep up the awesome work and have a fantastic New Year !   \n",
       "24756                                              Sounds like a fun game. Our home game around here is .05/.10. Its fun but not very exciting.   \n",
       "44459                                                         So no replays for arsenal penalty calls.. Cool cool cool cool cool cool cool cool   \n",
       "69395                                                                                  Wow, your posting history is a real... interesting ride.   \n",
       "20823                                                                                  Wow, your posting history is a real... interesting ride.   \n",
       "2001                            No different than people making a big deal about their team winning the super bowl. People find it interesting.   \n",
       "30921                                            Hey congrats!! That's amazing, you've done such amazing progress! Hope you have a great day :)   \n",
       "39475  I just read your list and now I can't wait, either!! Hurry up with the happy, relieved and peaceful onward and upward!! Congratulations😎   \n",
       "31370                                                                                                   Wait wait wait... did [NAME] go 61-27??   \n",
       "28410                Happy New Year! Looks like you had a great time there! Cheers! Here’s to a great 2019 hopefully in both baseball and life!   \n",
       "68537                     I absolutely love that idea. I went on an anniversary trip with a couple once and it was amazing! We had so much fun.   \n",
       "2656                                                                                                        Why am I excited for the new season   \n",
       "46348                                                                                                   Omg yesssss. It’s such an amazing combo   \n",
       "30654                                                                                                   Omg yesssss. It’s such an amazing combo   \n",
       "32501   Once a week. It was a semi expensive seafood place, but it also had a poppin sports bar/happy hour vibe. An interesting place for sure    \n",
       "32841                                                                                                             I hope. Sirens got me excited   \n",
       "33600                                                                Happy cake day bro... or ma'am. You have to see this to really take it in.   \n",
       "11233                                                                   Love situations like this...excited to see if he'll make it by tomorrow   \n",
       "\n",
       "       excitement  confidence  \n",
       "5676            0    0.000148  \n",
       "42757           0    0.000187  \n",
       "28707           0    0.000187  \n",
       "24756           0    0.000262  \n",
       "44459           0    0.000594  \n",
       "69395           0    0.000719  \n",
       "20823           0    0.000719  \n",
       "2001            0    0.000741  \n",
       "30921           0    0.000812  \n",
       "39475           0    0.001129  \n",
       "31370           0    0.001501  \n",
       "28410           0    0.001582  \n",
       "68537           0    0.002145  \n",
       "2656            0    0.002789  \n",
       "46348           0    0.002806  \n",
       "30654           0    0.002806  \n",
       "32501           0    0.003006  \n",
       "32841           0    0.003213  \n",
       "33600           0    0.003260  \n",
       "11233           0    0.003309  "
      ]
     },
     "execution_count": 10,
     "metadata": {},
     "output_type": "execute_result"
    }
   ],
   "source": [
    "(df\n",
    "  .assign(confidence=correct_class_confidence(X, y, pipe))\n",
    "  .loc[lambda d: pipe.predict(d['text']) != d['excitement']]\n",
    "  [['text', 'excitement', 'confidence']]\n",
    "  .sort_values(\"confidence\")\n",
    "  .loc[lambda d: d['excitement'] == 0]\n",
    "  .head(20))"
   ]
  },
  {
   "cell_type": "markdown",
   "id": "d5221bec-aa9b-4091-a3a7-e22cb4a670f0",
   "metadata": {},
   "source": [
    "## Cleanlab"
   ]
  },
  {
   "cell_type": "code",
   "execution_count": 11,
   "id": "651b35af-1e9c-46a5-ac8f-afa4e1476868",
   "metadata": {},
   "outputs": [],
   "source": [
    "from cleanlab.pruning import get_noise_indices\n",
    "\n",
    "ordered_label_errors = get_noise_indices(\n",
    "    s=y,\n",
    "    psx=pipe.predict_proba(X),\n",
    "    sorted_index_method='prob_given_label',\n",
    ")"
   ]
  },
  {
   "cell_type": "code",
   "execution_count": 12,
   "id": "f67bf1c3-9dde-4edb-b31e-4b05ac5b47e5",
   "metadata": {},
   "outputs": [
    {
     "data": {
      "text/html": [
       "<div>\n",
       "<style scoped>\n",
       "    .dataframe tbody tr th:only-of-type {\n",
       "        vertical-align: middle;\n",
       "    }\n",
       "\n",
       "    .dataframe tbody tr th {\n",
       "        vertical-align: top;\n",
       "    }\n",
       "\n",
       "    .dataframe thead th {\n",
       "        text-align: right;\n",
       "    }\n",
       "</style>\n",
       "<table border=\"1\" class=\"dataframe\">\n",
       "  <thead>\n",
       "    <tr style=\"text-align: right;\">\n",
       "      <th></th>\n",
       "      <th>text</th>\n",
       "      <th>excitement</th>\n",
       "    </tr>\n",
       "  </thead>\n",
       "  <tbody>\n",
       "    <tr>\n",
       "      <th>5676</th>\n",
       "      <td>I am inexplicably excited by [NAME]. I get so excited by how he curls passes</td>\n",
       "      <td>0</td>\n",
       "    </tr>\n",
       "    <tr>\n",
       "      <th>28707</th>\n",
       "      <td>Omg this is so amazing ! Keep up the awesome work and have a fantastic New Year !</td>\n",
       "      <td>0</td>\n",
       "    </tr>\n",
       "    <tr>\n",
       "      <th>42757</th>\n",
       "      <td>Omg this is so amazing ! Keep up the awesome work and have a fantastic New Year !</td>\n",
       "      <td>0</td>\n",
       "    </tr>\n",
       "    <tr>\n",
       "      <th>24756</th>\n",
       "      <td>Sounds like a fun game. Our home game around here is .05/.10. Its fun but not very exciting.</td>\n",
       "      <td>0</td>\n",
       "    </tr>\n",
       "    <tr>\n",
       "      <th>44459</th>\n",
       "      <td>So no replays for arsenal penalty calls.. Cool cool cool cool cool cool cool cool</td>\n",
       "      <td>0</td>\n",
       "    </tr>\n",
       "    <tr>\n",
       "      <th>20823</th>\n",
       "      <td>Wow, your posting history is a real... interesting ride.</td>\n",
       "      <td>0</td>\n",
       "    </tr>\n",
       "    <tr>\n",
       "      <th>69395</th>\n",
       "      <td>Wow, your posting history is a real... interesting ride.</td>\n",
       "      <td>0</td>\n",
       "    </tr>\n",
       "    <tr>\n",
       "      <th>2001</th>\n",
       "      <td>No different than people making a big deal about their team winning the super bowl. People find it interesting.</td>\n",
       "      <td>0</td>\n",
       "    </tr>\n",
       "    <tr>\n",
       "      <th>30921</th>\n",
       "      <td>Hey congrats!! That's amazing, you've done such amazing progress! Hope you have a great day :)</td>\n",
       "      <td>0</td>\n",
       "    </tr>\n",
       "    <tr>\n",
       "      <th>39475</th>\n",
       "      <td>I just read your list and now I can't wait, either!! Hurry up with the happy, relieved and peaceful onward and upward!! Congratulations😎</td>\n",
       "      <td>0</td>\n",
       "    </tr>\n",
       "    <tr>\n",
       "      <th>31370</th>\n",
       "      <td>Wait wait wait... did [NAME] go 61-27??</td>\n",
       "      <td>0</td>\n",
       "    </tr>\n",
       "    <tr>\n",
       "      <th>28410</th>\n",
       "      <td>Happy New Year! Looks like you had a great time there! Cheers! Here’s to a great 2019 hopefully in both baseball and life!</td>\n",
       "      <td>0</td>\n",
       "    </tr>\n",
       "    <tr>\n",
       "      <th>68537</th>\n",
       "      <td>I absolutely love that idea. I went on an anniversary trip with a couple once and it was amazing! We had so much fun.</td>\n",
       "      <td>0</td>\n",
       "    </tr>\n",
       "    <tr>\n",
       "      <th>2656</th>\n",
       "      <td>Why am I excited for the new season</td>\n",
       "      <td>0</td>\n",
       "    </tr>\n",
       "    <tr>\n",
       "      <th>30654</th>\n",
       "      <td>Omg yesssss. It’s such an amazing combo</td>\n",
       "      <td>0</td>\n",
       "    </tr>\n",
       "    <tr>\n",
       "      <th>46348</th>\n",
       "      <td>Omg yesssss. It’s such an amazing combo</td>\n",
       "      <td>0</td>\n",
       "    </tr>\n",
       "    <tr>\n",
       "      <th>32501</th>\n",
       "      <td>Once a week. It was a semi expensive seafood place, but it also had a poppin sports bar/happy hour vibe. An interesting place for sure</td>\n",
       "      <td>0</td>\n",
       "    </tr>\n",
       "    <tr>\n",
       "      <th>32841</th>\n",
       "      <td>I hope. Sirens got me excited</td>\n",
       "      <td>0</td>\n",
       "    </tr>\n",
       "    <tr>\n",
       "      <th>33600</th>\n",
       "      <td>Happy cake day bro... or ma'am. You have to see this to really take it in.</td>\n",
       "      <td>0</td>\n",
       "    </tr>\n",
       "    <tr>\n",
       "      <th>11233</th>\n",
       "      <td>Love situations like this...excited to see if he'll make it by tomorrow</td>\n",
       "      <td>0</td>\n",
       "    </tr>\n",
       "  </tbody>\n",
       "</table>\n",
       "</div>"
      ],
      "text/plain": [
       "                                                                                                                                           text  \\\n",
       "5676                                                               I am inexplicably excited by [NAME]. I get so excited by how he curls passes   \n",
       "28707                                                         Omg this is so amazing ! Keep up the awesome work and have a fantastic New Year !   \n",
       "42757                                                         Omg this is so amazing ! Keep up the awesome work and have a fantastic New Year !   \n",
       "24756                                              Sounds like a fun game. Our home game around here is .05/.10. Its fun but not very exciting.   \n",
       "44459                                                         So no replays for arsenal penalty calls.. Cool cool cool cool cool cool cool cool   \n",
       "20823                                                                                  Wow, your posting history is a real... interesting ride.   \n",
       "69395                                                                                  Wow, your posting history is a real... interesting ride.   \n",
       "2001                            No different than people making a big deal about their team winning the super bowl. People find it interesting.   \n",
       "30921                                            Hey congrats!! That's amazing, you've done such amazing progress! Hope you have a great day :)   \n",
       "39475  I just read your list and now I can't wait, either!! Hurry up with the happy, relieved and peaceful onward and upward!! Congratulations😎   \n",
       "31370                                                                                                   Wait wait wait... did [NAME] go 61-27??   \n",
       "28410                Happy New Year! Looks like you had a great time there! Cheers! Here’s to a great 2019 hopefully in both baseball and life!   \n",
       "68537                     I absolutely love that idea. I went on an anniversary trip with a couple once and it was amazing! We had so much fun.   \n",
       "2656                                                                                                        Why am I excited for the new season   \n",
       "30654                                                                                                   Omg yesssss. It’s such an amazing combo   \n",
       "46348                                                                                                   Omg yesssss. It’s such an amazing combo   \n",
       "32501   Once a week. It was a semi expensive seafood place, but it also had a poppin sports bar/happy hour vibe. An interesting place for sure    \n",
       "32841                                                                                                             I hope. Sirens got me excited   \n",
       "33600                                                                Happy cake day bro... or ma'am. You have to see this to really take it in.   \n",
       "11233                                                                   Love situations like this...excited to see if he'll make it by tomorrow   \n",
       "\n",
       "       excitement  \n",
       "5676            0  \n",
       "28707           0  \n",
       "42757           0  \n",
       "24756           0  \n",
       "44459           0  \n",
       "20823           0  \n",
       "69395           0  \n",
       "2001            0  \n",
       "30921           0  \n",
       "39475           0  \n",
       "31370           0  \n",
       "28410           0  \n",
       "68537           0  \n",
       "2656            0  \n",
       "30654           0  \n",
       "46348           0  \n",
       "32501           0  \n",
       "32841           0  \n",
       "33600           0  \n",
       "11233           0  "
      ]
     },
     "execution_count": 12,
     "metadata": {},
     "output_type": "execute_result"
    }
   ],
   "source": [
    "df.iloc[ordered_label_errors][['text', 'excitement']].head(20)"
   ]
  },
  {
   "cell_type": "markdown",
   "id": "ac7b2c89-bed2-428f-af13-edaa6839ac66",
   "metadata": {},
   "source": [
    "## Noisy label learning"
   ]
  },
  {
   "cell_type": "code",
   "execution_count": 13,
   "id": "106505fb-8d86-49d6-af47-3dca4c8e742b",
   "metadata": {},
   "outputs": [
    {
     "data": {
      "text/plain": [
       "Pipeline(steps=[('countvectorizer', CountVectorizer()),\n",
       "                ('logisticregression',\n",
       "                 LogisticRegression(class_weight='balanced', max_iter=1000))])"
      ]
     },
     "execution_count": 13,
     "metadata": {},
     "output_type": "execute_result"
    }
   ],
   "source": [
    "from cleanlab.classification import LearningWithNoisyLabels\n",
    "from sklearn.linear_model import LogisticRegression\n",
    "\n",
    "# Wrap around any classifier that has `sample_weights`.\n",
    "fresh_pipe = make_pipeline(\n",
    "    CountVectorizer(),\n",
    "    LogisticRegression(class_weight='balanced', max_iter=1000)\n",
    ")\n",
    "lnl = LearningWithNoisyLabels(clf=fresh_pipe)\n",
    "\n",
    "# Pay attention! It's s=, not y=!\n",
    "lnl.fit(X=X, s=y.values)"
   ]
  },
  {
   "cell_type": "code",
   "execution_count": 14,
   "id": "44080223-7826-4487-ae80-58a0501e8958",
   "metadata": {},
   "outputs": [
    {
     "data": {
      "text/plain": [
       "Pipeline(steps=[('countvectorizer', CountVectorizer()),\n",
       "                ('logisticregression',\n",
       "                 LogisticRegression(class_weight='balanced', max_iter=1000))])"
      ]
     },
     "execution_count": 14,
     "metadata": {},
     "output_type": "execute_result"
    }
   ],
   "source": [
    "# comparison\n",
    "\n",
    "new_pipe = make_pipeline(\n",
    "    CountVectorizer(),\n",
    "    LogisticRegression(class_weight='balanced', max_iter=1000)\n",
    ")\n",
    "\n",
    "new_pipe.fit(X=X, y=y)"
   ]
  },
  {
   "cell_type": "code",
   "execution_count": 15,
   "id": "a74f584d-8d84-45aa-8551-8a212ce242fa",
   "metadata": {},
   "outputs": [
    {
     "data": {
      "text/html": [
       "<div>\n",
       "<style scoped>\n",
       "    .dataframe tbody tr th:only-of-type {\n",
       "        vertical-align: middle;\n",
       "    }\n",
       "\n",
       "    .dataframe tbody tr th {\n",
       "        vertical-align: top;\n",
       "    }\n",
       "\n",
       "    .dataframe thead th {\n",
       "        text-align: right;\n",
       "    }\n",
       "</style>\n",
       "<table border=\"1\" class=\"dataframe\">\n",
       "  <thead>\n",
       "    <tr style=\"text-align: right;\">\n",
       "      <th></th>\n",
       "      <th>text</th>\n",
       "      <th>excitement</th>\n",
       "    </tr>\n",
       "  </thead>\n",
       "  <tbody>\n",
       "    <tr>\n",
       "      <th>12853</th>\n",
       "      <td>Any respectable head shop (pot accessory store) or tobacconist (cigar shop) will have them. Good luck, love that friggin pipe!</td>\n",
       "      <td>1</td>\n",
       "    </tr>\n",
       "    <tr>\n",
       "      <th>13727</th>\n",
       "      <td>Yep! It's still busy. Slightly less crowded but still fun!</td>\n",
       "      <td>0</td>\n",
       "    </tr>\n",
       "    <tr>\n",
       "      <th>16716</th>\n",
       "      <td>Right on. The cities are where you can find some of the most virgin girls.</td>\n",
       "      <td>1</td>\n",
       "    </tr>\n",
       "    <tr>\n",
       "      <th>31208</th>\n",
       "      <td>Yes! It's hard to believe that some people like warm toilet seats enough to pay for it as a feature.</td>\n",
       "      <td>0</td>\n",
       "    </tr>\n",
       "    <tr>\n",
       "      <th>38582</th>\n",
       "      <td>I have seen quite a few posts in this subreddit on the topic, I would start by searching those.</td>\n",
       "      <td>1</td>\n",
       "    </tr>\n",
       "  </tbody>\n",
       "</table>\n",
       "</div>"
      ],
      "text/plain": [
       "                                                                                                                                 text  \\\n",
       "12853  Any respectable head shop (pot accessory store) or tobacconist (cigar shop) will have them. Good luck, love that friggin pipe!   \n",
       "13727                                                                      Yep! It's still busy. Slightly less crowded but still fun!   \n",
       "16716                                                      Right on. The cities are where you can find some of the most virgin girls.   \n",
       "31208                            Yes! It's hard to believe that some people like warm toilet seats enough to pay for it as a feature.   \n",
       "38582                                 I have seen quite a few posts in this subreddit on the topic, I would start by searching those.   \n",
       "\n",
       "       excitement  \n",
       "12853           1  \n",
       "13727           0  \n",
       "16716           1  \n",
       "31208           0  \n",
       "38582           1  "
      ]
     },
     "execution_count": 15,
     "metadata": {},
     "output_type": "execute_result"
    }
   ],
   "source": [
    "df.loc[lnl.predict(X) != new_pipe.predict(X)][['text', 'excitement']].sample(5)"
   ]
  },
  {
   "cell_type": "code",
   "execution_count": null,
   "id": "0734b283-4256-4a89-b69e-b02db92fe993",
   "metadata": {},
   "outputs": [],
   "source": []
  }
 ],
 "metadata": {
  "kernelspec": {
   "display_name": "Python 3",
   "language": "python",
   "name": "python3"
  },
  "language_info": {
   "codemirror_mode": {
    "name": "ipython",
    "version": 3
   },
   "file_extension": ".py",
   "mimetype": "text/x-python",
   "name": "python",
   "nbconvert_exporter": "python",
   "pygments_lexer": "ipython3",
   "version": "3.8.8"
  }
 },
 "nbformat": 4,
 "nbformat_minor": 5
}
