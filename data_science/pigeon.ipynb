{
 "cells": [
  {
   "cell_type": "code",
   "execution_count": 1,
   "id": "5a08f754-23b9-4f60-ab08-19ef96546ef3",
   "metadata": {},
   "outputs": [],
   "source": [
    "#%pip install pigeon-jupyter"
   ]
  },
  {
   "cell_type": "code",
   "execution_count": 2,
   "id": "6360e815-699e-46fb-9565-62bc05aa26a0",
   "metadata": {},
   "outputs": [
    {
     "data": {
      "application/vnd.jupyter.widget-view+json": {
       "model_id": "cf5aa1b6b41f4c3c98b3a362e6d1d555",
       "version_major": 2,
       "version_minor": 0
      },
      "text/plain": [
       "HTML(value='0 examples annotated, 4 examples left')"
      ]
     },
     "metadata": {},
     "output_type": "display_data"
    },
    {
     "data": {
      "application/vnd.jupyter.widget-view+json": {
       "model_id": "6b6b323214de43079088506f8aa7bd6a",
       "version_major": 2,
       "version_minor": 0
      },
      "text/plain": [
       "HBox(children=(Button(description='positive', style=ButtonStyle()), Button(description='negative', style=Butto…"
      ]
     },
     "metadata": {},
     "output_type": "display_data"
    },
    {
     "data": {
      "application/vnd.jupyter.widget-view+json": {
       "model_id": "94c2c76df2af483999c9115c979ad753",
       "version_major": 2,
       "version_minor": 0
      },
      "text/plain": [
       "Output()"
      ]
     },
     "metadata": {},
     "output_type": "display_data"
    }
   ],
   "source": [
    "from pigeon import annotate\n",
    "\n",
    "sentiment_examples = ['I like this', 'I do not like this', 'This is great']\n",
    "# The annotations can be retreived from the assigned variable.\n",
    "annotations = annotate(sentiment_examples, options=[\"positive\", \"negative\"])"
   ]
  },
  {
   "cell_type": "code",
   "execution_count": 3,
   "id": "ecf87044-21be-4ecb-b973-c3c3e78b22eb",
   "metadata": {},
   "outputs": [
    {
     "data": {
      "text/plain": [
       "[('I like this', 'positive'),\n",
       " ('I do not like this', 'negative'),\n",
       " ('This is great', 'positive')]"
      ]
     },
     "execution_count": 3,
     "metadata": {},
     "output_type": "execute_result"
    }
   ],
   "source": [
    "annotations"
   ]
  },
  {
   "cell_type": "code",
   "execution_count": 4,
   "id": "afcdc922-53d7-4441-98cf-6721142f2f17",
   "metadata": {},
   "outputs": [
    {
     "data": {
      "application/vnd.jupyter.widget-view+json": {
       "model_id": "72e78a14ba88446bb1a04bb07037917b",
       "version_major": 2,
       "version_minor": 0
      },
      "text/plain": [
       "HTML(value='0 examples annotated, 7 examples left')"
      ]
     },
     "metadata": {},
     "output_type": "display_data"
    },
    {
     "data": {
      "application/vnd.jupyter.widget-view+json": {
       "model_id": "5c2695c34d474592be76005f7fc0bcfe",
       "version_major": 2,
       "version_minor": 0
      },
      "text/plain": [
       "HBox(children=(Button(description='A', style=ButtonStyle()), Button(description='B', style=ButtonStyle()), But…"
      ]
     },
     "metadata": {},
     "output_type": "display_data"
    },
    {
     "data": {
      "application/vnd.jupyter.widget-view+json": {
       "model_id": "3792bb3e8a6d44888039d4642ac264cf",
       "version_major": 2,
       "version_minor": 0
      },
      "text/plain": [
       "Output()"
      ]
     },
     "metadata": {},
     "output_type": "display_data"
    }
   ],
   "source": [
    "from IPython.display import display\n",
    "from sklego.datasets import load_penguins\n",
    "from pigeon import annotate\n",
    "\n",
    "df = load_penguins(as_frame=True).drop(columns=[\"species\"])\n",
    "\n",
    "# Again note the clever use of the `display_fn`.\n",
    "annotations = annotate(\n",
    "  [1, 2, 3, 4, 5, 6],\n",
    "  options=['A', 'B', 'C'],\n",
    "  display_fn=lambda x: display(df.iloc[x-1:x])\n",
    ")"
   ]
  },
  {
   "cell_type": "code",
   "execution_count": 4,
   "id": "50a1d754-e5a5-4fe0-99dd-33952b365424",
   "metadata": {},
   "outputs": [
    {
     "data": {
      "text/plain": [
       "\u001b[0;31mSignature:\u001b[0m\n",
       "\u001b[0mannotate\u001b[0m\u001b[0;34m(\u001b[0m\u001b[0;34m\u001b[0m\n",
       "\u001b[0;34m\u001b[0m    \u001b[0mexamples\u001b[0m\u001b[0;34m,\u001b[0m\u001b[0;34m\u001b[0m\n",
       "\u001b[0;34m\u001b[0m    \u001b[0moptions\u001b[0m\u001b[0;34m=\u001b[0m\u001b[0;32mNone\u001b[0m\u001b[0;34m,\u001b[0m\u001b[0;34m\u001b[0m\n",
       "\u001b[0;34m\u001b[0m    \u001b[0mshuffle\u001b[0m\u001b[0;34m=\u001b[0m\u001b[0;32mFalse\u001b[0m\u001b[0;34m,\u001b[0m\u001b[0;34m\u001b[0m\n",
       "\u001b[0;34m\u001b[0m    \u001b[0minclude_skip\u001b[0m\u001b[0;34m=\u001b[0m\u001b[0;32mTrue\u001b[0m\u001b[0;34m,\u001b[0m\u001b[0;34m\u001b[0m\n",
       "\u001b[0;34m\u001b[0m    \u001b[0mdisplay_fn\u001b[0m\u001b[0;34m=\u001b[0m\u001b[0;34m<\u001b[0m\u001b[0mfunction\u001b[0m \u001b[0mdisplay\u001b[0m \u001b[0mat\u001b[0m \u001b[0;36m0x7fa1482283a0\u001b[0m\u001b[0;34m>\u001b[0m\u001b[0;34m,\u001b[0m\u001b[0;34m\u001b[0m\n",
       "\u001b[0;34m\u001b[0m\u001b[0;34m)\u001b[0m\u001b[0;34m\u001b[0m\u001b[0;34m\u001b[0m\u001b[0m\n",
       "\u001b[0;31mDocstring:\u001b[0m\n",
       "Build an interactive widget for annotating a list of input examples.\n",
       "\n",
       "Parameters\n",
       "----------\n",
       "examples: list(any), list of items to annotate\n",
       "options: list(any) or tuple(start, end, [step]) or None\n",
       "         if list: list of labels for binary classification task (Dropdown or Buttons)\n",
       "         if tuple: range for regression task (IntSlider or FloatSlider)\n",
       "         if None: arbitrary text input (TextArea)\n",
       "shuffle: bool, shuffle the examples before annotating\n",
       "include_skip: bool, include option to skip example while annotating\n",
       "display_fn: func, function for displaying an example to the user\n",
       "\n",
       "Returns\n",
       "-------\n",
       "annotations : list of tuples, list of annotated examples (example, label)\n",
       "\u001b[0;31mFile:\u001b[0m      ~/anaconda3/lib/python3.8/site-packages/pigeon/annotate.py\n",
       "\u001b[0;31mType:\u001b[0m      function\n"
      ]
     },
     "metadata": {},
     "output_type": "display_data"
    }
   ],
   "source": [
    "?annotate"
   ]
  },
  {
   "cell_type": "code",
   "execution_count": null,
   "id": "8cab62e1-a3a1-432c-aa2d-0ef44ff35c8c",
   "metadata": {},
   "outputs": [],
   "source": []
  }
 ],
 "metadata": {
  "kernelspec": {
   "display_name": "Python 3",
   "language": "python",
   "name": "python3"
  },
  "language_info": {
   "codemirror_mode": {
    "name": "ipython",
    "version": 3
   },
   "file_extension": ".py",
   "mimetype": "text/x-python",
   "name": "python",
   "nbconvert_exporter": "python",
   "pygments_lexer": "ipython3",
   "version": "3.8.8"
  }
 },
 "nbformat": 4,
 "nbformat_minor": 5
}
