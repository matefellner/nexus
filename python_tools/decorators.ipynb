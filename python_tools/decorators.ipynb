{
 "cells": [
  {
   "cell_type": "code",
   "execution_count": 1,
   "id": "4091fd98",
   "metadata": {},
   "outputs": [],
   "source": [
    "import time\n",
    "import random\n",
    "from functools import wraps\n",
    "import pandas as pd\n",
    "import datetime as dt\n",
    "\n",
    "\n",
    "def print_args(f):\n",
    "    @wraps(f)\n",
    "    def func(*args, **kwargs):\n",
    "        print(f\"function is called with: {args}, {kwargs}\")\n",
    "        result = f(*args, **kwargs)\n",
    "        return result\n",
    "    return func\n",
    "\n",
    "\n",
    "def loggg(show_time=True, show_name=True):\n",
    "    def stopwatch(f):\n",
    "        @wraps(f)\n",
    "        def func(*args, **kwargs):\n",
    "            tic = time.time()\n",
    "            result = f(*args, **kwargs)\n",
    "            log_text = \"call\"\n",
    "            if show_name:\n",
    "                log_text = f\"{log_text} {f.__name__}\"\n",
    "            if show_time:\n",
    "                log_text = f\"{log_text} time:{time.time() - tic}\"\n",
    "            print(log_text)\n",
    "            return result\n",
    "        return func\n",
    "    return stopwatch\n",
    "\n",
    "\n",
    "def loggg_2(func_in=None, *, show_time=True, show_name=True):\n",
    "    def stopwatch(f):\n",
    "        @wraps(f)\n",
    "        def func(*args, **kwargs):\n",
    "            tic = time.time()\n",
    "            result = f(*args, **kwargs)\n",
    "            log_text = \"call\"\n",
    "            if show_name:\n",
    "                log_text = f\"{log_text} {f.__name__}\"\n",
    "            if show_time:\n",
    "                log_text = f\"{log_text} time:{time.time() - tic}\"\n",
    "            print(log_text)\n",
    "            return result\n",
    "        return func\n",
    "    if func_in is None:\n",
    "        return stopwatch\n",
    "    else:\n",
    "        return stopwatch(func_in)\n",
    "\n",
    "\n",
    "@print_args\n",
    "@loggg_2(show_time=True, show_name=True)\n",
    "def sleep_random(s=1):\n",
    "    \"\"\"This function sleeps for at least 's' seconds.\"\"\"\n",
    "    time.sleep(s + random.random())\n",
    "    return \"Done\"\n",
    "\n",
    "\n",
    "@print_args\n",
    "@loggg_2\n",
    "def sleep_random_2(s=1):\n",
    "    \"\"\"This function sleeps for at least 's' seconds.\"\"\"\n",
    "    time.sleep(s + random.random())\n",
    "    return \"Done\""
   ]
  },
  {
   "cell_type": "code",
   "execution_count": 2,
   "id": "168a22b8",
   "metadata": {},
   "outputs": [
    {
     "name": "stdout",
     "output_type": "stream",
     "text": [
      "function is called with: (), {'s': 1}\n",
      "call sleep_random time:1.367227554321289\n"
     ]
    },
    {
     "data": {
      "text/plain": [
       "'Done'"
      ]
     },
     "execution_count": 2,
     "metadata": {},
     "output_type": "execute_result"
    }
   ],
   "source": [
    "sleep_random(s=1)"
   ]
  },
  {
   "cell_type": "code",
   "execution_count": 3,
   "id": "6d236c4c",
   "metadata": {},
   "outputs": [
    {
     "name": "stdout",
     "output_type": "stream",
     "text": [
      "function is called with: (), {'s': 1}\n",
      "call sleep_random_2 time:1.5446536540985107\n"
     ]
    },
    {
     "data": {
      "text/plain": [
       "'Done'"
      ]
     },
     "execution_count": 3,
     "metadata": {},
     "output_type": "execute_result"
    }
   ],
   "source": [
    "sleep_random_2(s=1)"
   ]
  },
  {
   "cell_type": "code",
   "execution_count": 4,
   "id": "dd670c2b",
   "metadata": {},
   "outputs": [
    {
     "name": "stdout",
     "output_type": "stream",
     "text": [
      "Help on function sleep_random in module __main__:\n",
      "\n",
      "sleep_random(s=1)\n",
      "    This function sleeps for at least 's' seconds.\n",
      "\n"
     ]
    }
   ],
   "source": [
    "help(sleep_random)"
   ]
  },
  {
   "cell_type": "code",
   "execution_count": null,
   "id": "68d78b1a",
   "metadata": {},
   "outputs": [],
   "source": []
  },
  {
   "cell_type": "code",
   "execution_count": 5,
   "id": "57e0695d",
   "metadata": {},
   "outputs": [],
   "source": [
    "def log_step(func):\n",
    "    @wraps(func)\n",
    "    def wrapper(*args, **kwargs):\n",
    "        tic = dt.datetime.now()\n",
    "        result = func(*args, **kwargs)\n",
    "        time_taken = str(dt.datetime.now() - tic)\n",
    "        print(f\"just ran step {func.__name__} shape={result.shape} took {time_taken}s\")\n",
    "        return result\n",
    "    return wrapper"
   ]
  },
  {
   "cell_type": "code",
   "execution_count": 6,
   "id": "79879c2c",
   "metadata": {},
   "outputs": [
    {
     "name": "stdout",
     "output_type": "stream",
     "text": [
      "just ran step start_pipeline shape=(1330, 6) took 0:00:00.000337s\n",
      "just ran step set_dtypes shape=(1330, 6) took 0:00:00.020967s\n",
      "just ran step remove_outliers shape=(1248, 6) took 0:00:00.020549s\n"
     ]
    }
   ],
   "source": [
    "df = pd.read_csv('https://calmcode.io/datasets/bigmac.csv')\n",
    "\n",
    "@log_step\n",
    "def start_pipeline(dataf):\n",
    "    return dataf.copy()\n",
    "\n",
    "@log_step\n",
    "def set_dtypes(dataf):\n",
    "    return (dataf\n",
    "            .assign(date=lambda d: pd.to_datetime(d['date']))\n",
    "            .sort_values(['currency_code', 'date']))\n",
    "\n",
    "@log_step\n",
    "def remove_outliers(dataf, min_row_country=32):\n",
    "    countries = (dataf\n",
    "                .groupby('currency_code')\n",
    "                .agg(n=('name', 'count'))\n",
    "                .loc[lambda d: d['n'] >= min_row_country]\n",
    "                .index)\n",
    "    return (dataf\n",
    "            .loc[lambda d: d['currency_code'].isin(countries)])\n",
    "\n",
    "df_new = (df\n",
    "  .pipe(start_pipeline)\n",
    "  .pipe(set_dtypes)\n",
    "  .pipe(remove_outliers, min_row_country=20))"
   ]
  },
  {
   "cell_type": "code",
   "execution_count": 9,
   "id": "223b440f",
   "metadata": {},
   "outputs": [
    {
     "name": "stderr",
     "output_type": "stream",
     "text": [
      "WARNING:retry.api:no bueno!, retrying in 0.5 seconds...\n",
      "WARNING:retry.api:no bueno!, retrying in 0.5 seconds...\n",
      "WARNING:retry.api:no bueno!, retrying in 0.5 seconds...\n"
     ]
    },
    {
     "data": {
      "text/plain": [
       "'Done!'"
      ]
     },
     "execution_count": 9,
     "metadata": {},
     "output_type": "execute_result"
    }
   ],
   "source": [
    "from retry import retry\n",
    "\n",
    "import logging\n",
    "logging.basicConfig()\n",
    "\n",
    "@retry(ValueError, tries=5, delay=0.5)\n",
    "def randomly_fails(p=0.5):\n",
    "    if random.random() < p:\n",
    "        raise ValueError(\"no bueno!\")\n",
    "    return \"Done!\"\n",
    "\n",
    "randomly_fails()"
   ]
  },
  {
   "cell_type": "code",
   "execution_count": null,
   "id": "564e7871",
   "metadata": {},
   "outputs": [],
   "source": []
  }
 ],
 "metadata": {
  "kernelspec": {
   "display_name": "Python 3",
   "language": "python",
   "name": "python3"
  },
  "language_info": {
   "codemirror_mode": {
    "name": "ipython",
    "version": 3
   },
   "file_extension": ".py",
   "mimetype": "text/x-python",
   "name": "python",
   "nbconvert_exporter": "python",
   "pygments_lexer": "ipython3",
   "version": "3.8.8"
  }
 },
 "nbformat": 4,
 "nbformat_minor": 5
}
