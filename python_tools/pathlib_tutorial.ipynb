{
 "cells": [
  {
   "cell_type": "code",
   "execution_count": 1,
   "id": "6d59df12",
   "metadata": {},
   "outputs": [],
   "source": [
    "import os\n",
    "import json"
   ]
  },
  {
   "cell_type": "code",
   "execution_count": 2,
   "id": "9b04b729",
   "metadata": {},
   "outputs": [
    {
     "data": {
      "text/plain": [
       "'pathlib_settings/config.json'"
      ]
     },
     "execution_count": 2,
     "metadata": {},
     "output_type": "execute_result"
    }
   ],
   "source": [
    "os.path.join(\"pathlib_settings\", \"config.json\")"
   ]
  },
  {
   "cell_type": "code",
   "execution_count": 3,
   "id": "4bc3af70",
   "metadata": {},
   "outputs": [],
   "source": [
    "p = os.path.abspath(os.path.join(\"pathlib_settings\", \"config.json\"))"
   ]
  },
  {
   "cell_type": "code",
   "execution_count": 4,
   "id": "16b25f7f",
   "metadata": {},
   "outputs": [
    {
     "data": {
      "text/plain": [
       "str"
      ]
     },
     "execution_count": 4,
     "metadata": {},
     "output_type": "execute_result"
    }
   ],
   "source": [
    "type(p)"
   ]
  },
  {
   "cell_type": "code",
   "execution_count": 5,
   "id": "71253613",
   "metadata": {},
   "outputs": [
    {
     "data": {
      "text/plain": [
       "True"
      ]
     },
     "execution_count": 5,
     "metadata": {},
     "output_type": "execute_result"
    }
   ],
   "source": [
    "os.path.exists(p)"
   ]
  },
  {
   "cell_type": "code",
   "execution_count": 6,
   "id": "1e39c9b7",
   "metadata": {},
   "outputs": [],
   "source": [
    "import pathlib\n",
    "\n",
    "p = pathlib.Path(\"pathlib_settings\", \"config.json\")"
   ]
  },
  {
   "cell_type": "code",
   "execution_count": 7,
   "id": "26b8b64f",
   "metadata": {},
   "outputs": [
    {
     "data": {
      "text/plain": [
       "PosixPath('pathlib_settings/config.json')"
      ]
     },
     "execution_count": 7,
     "metadata": {},
     "output_type": "execute_result"
    }
   ],
   "source": [
    "p"
   ]
  },
  {
   "cell_type": "code",
   "execution_count": 8,
   "id": "4476477f",
   "metadata": {},
   "outputs": [
    {
     "data": {
      "text/plain": [
       "True"
      ]
     },
     "execution_count": 8,
     "metadata": {},
     "output_type": "execute_result"
    }
   ],
   "source": [
    "p.exists()"
   ]
  },
  {
   "cell_type": "code",
   "execution_count": 9,
   "id": "12a2f7ca",
   "metadata": {},
   "outputs": [
    {
     "data": {
      "text/plain": [
       "{'setting': 'a', 'config': 'b'}"
      ]
     },
     "execution_count": 9,
     "metadata": {},
     "output_type": "execute_result"
    }
   ],
   "source": [
    "json.loads(p.read_text())"
   ]
  },
  {
   "cell_type": "code",
   "execution_count": 10,
   "id": "1cf7318a",
   "metadata": {},
   "outputs": [
    {
     "data": {
      "text/plain": [
       "('pathlib_settings', 'config.json')"
      ]
     },
     "execution_count": 10,
     "metadata": {},
     "output_type": "execute_result"
    }
   ],
   "source": [
    "p.parts"
   ]
  },
  {
   "cell_type": "code",
   "execution_count": 11,
   "id": "065a7a67",
   "metadata": {},
   "outputs": [
    {
     "data": {
      "text/plain": [
       "False"
      ]
     },
     "execution_count": 11,
     "metadata": {},
     "output_type": "execute_result"
    }
   ],
   "source": [
    "p.is_dir()"
   ]
  },
  {
   "cell_type": "code",
   "execution_count": 12,
   "id": "5bbb3fb3",
   "metadata": {},
   "outputs": [
    {
     "data": {
      "text/plain": [
       "True"
      ]
     },
     "execution_count": 12,
     "metadata": {},
     "output_type": "execute_result"
    }
   ],
   "source": [
    "p.is_file()"
   ]
  },
  {
   "cell_type": "code",
   "execution_count": 13,
   "id": "1bf8f64d",
   "metadata": {},
   "outputs": [
    {
     "data": {
      "text/plain": [
       "True"
      ]
     },
     "execution_count": 13,
     "metadata": {},
     "output_type": "execute_result"
    }
   ],
   "source": [
    "p.resolve().samefile(p)"
   ]
  },
  {
   "cell_type": "code",
   "execution_count": 14,
   "id": "c148814c",
   "metadata": {},
   "outputs": [
    {
     "data": {
      "text/plain": [
       "'.json'"
      ]
     },
     "execution_count": 14,
     "metadata": {},
     "output_type": "execute_result"
    }
   ],
   "source": [
    "p.suffix"
   ]
  },
  {
   "cell_type": "code",
   "execution_count": 15,
   "id": "78d101f5",
   "metadata": {},
   "outputs": [],
   "source": [
    "p2 = pathlib.Path(\"pathlib_settings\", \"config.nii.gz\")"
   ]
  },
  {
   "cell_type": "code",
   "execution_count": 16,
   "id": "77e93038",
   "metadata": {},
   "outputs": [
    {
     "data": {
      "text/plain": [
       "'.gz'"
      ]
     },
     "execution_count": 16,
     "metadata": {},
     "output_type": "execute_result"
    }
   ],
   "source": [
    "p2.suffix"
   ]
  },
  {
   "cell_type": "code",
   "execution_count": 17,
   "id": "12216b29",
   "metadata": {},
   "outputs": [
    {
     "data": {
      "text/plain": [
       "PosixPath('configuration.json')"
      ]
     },
     "execution_count": 17,
     "metadata": {},
     "output_type": "execute_result"
    }
   ],
   "source": [
    "p2 = pathlib.Path(\"configuration.json\")\n",
    "p.rename(p2)"
   ]
  },
  {
   "cell_type": "code",
   "execution_count": 18,
   "id": "54cfab0b",
   "metadata": {},
   "outputs": [],
   "source": [
    "data = json.loads(p2.read_text())"
   ]
  },
  {
   "cell_type": "code",
   "execution_count": 19,
   "id": "eed5bcb5",
   "metadata": {},
   "outputs": [
    {
     "data": {
      "text/plain": [
       "31"
      ]
     },
     "execution_count": 19,
     "metadata": {},
     "output_type": "execute_result"
    }
   ],
   "source": [
    "text = json.dumps(data)\n",
    "p.write_text(text)"
   ]
  },
  {
   "cell_type": "code",
   "execution_count": 20,
   "id": "f878c88f",
   "metadata": {
    "tags": []
   },
   "outputs": [
    {
     "name": "stdout",
     "output_type": "stream",
     "text": [
      "pathlib_settings/f-0/file-0.json\n",
      "pathlib_settings/f-0/file-1.json\n",
      "pathlib_settings/f-0/file-2.json\n",
      "pathlib_settings/f-0/file-3.json\n",
      "pathlib_settings/f-0/file-4.json\n",
      "pathlib_settings/f-1/file-0.json\n",
      "pathlib_settings/f-1/file-1.json\n",
      "pathlib_settings/f-1/file-2.json\n",
      "pathlib_settings/f-1/file-3.json\n",
      "pathlib_settings/f-1/file-4.json\n",
      "pathlib_settings/f-2/file-0.json\n",
      "pathlib_settings/f-2/file-1.json\n",
      "pathlib_settings/f-2/file-2.json\n",
      "pathlib_settings/f-2/file-3.json\n",
      "pathlib_settings/f-2/file-4.json\n",
      "pathlib_settings/f-3/file-0.json\n",
      "pathlib_settings/f-3/file-1.json\n",
      "pathlib_settings/f-3/file-2.json\n",
      "pathlib_settings/f-3/file-3.json\n",
      "pathlib_settings/f-3/file-4.json\n",
      "pathlib_settings/f-4/file-0.json\n",
      "pathlib_settings/f-4/file-1.json\n",
      "pathlib_settings/f-4/file-2.json\n",
      "pathlib_settings/f-4/file-3.json\n",
      "pathlib_settings/f-4/file-4.json\n",
      "pathlib_settings/f-5/file-0.json\n",
      "pathlib_settings/f-5/file-1.json\n",
      "pathlib_settings/f-5/file-2.json\n",
      "pathlib_settings/f-5/file-3.json\n",
      "pathlib_settings/f-5/file-4.json\n",
      "pathlib_settings/f-6/file-0.json\n",
      "pathlib_settings/f-6/file-1.json\n",
      "pathlib_settings/f-6/file-2.json\n",
      "pathlib_settings/f-6/file-3.json\n",
      "pathlib_settings/f-6/file-4.json\n",
      "pathlib_settings/f-7/file-0.json\n",
      "pathlib_settings/f-7/file-1.json\n",
      "pathlib_settings/f-7/file-2.json\n",
      "pathlib_settings/f-7/file-3.json\n",
      "pathlib_settings/f-7/file-4.json\n",
      "pathlib_settings/f-8/file-0.json\n",
      "pathlib_settings/f-8/file-1.json\n",
      "pathlib_settings/f-8/file-2.json\n",
      "pathlib_settings/f-8/file-3.json\n",
      "pathlib_settings/f-8/file-4.json\n",
      "pathlib_settings/f-9/file-0.json\n",
      "pathlib_settings/f-9/file-1.json\n",
      "pathlib_settings/f-9/file-2.json\n",
      "pathlib_settings/f-9/file-3.json\n",
      "pathlib_settings/f-9/file-4.json\n"
     ]
    }
   ],
   "source": [
    "def create_json(value):\n",
    "    return json.dumps({\"number\": value})\n",
    "\n",
    "for folder in range(10):\n",
    "    for filename in range(5):\n",
    "        p = pathlib.Path(\"pathlib_settings\", f\"f-{folder}\", f\"file-{filename}.json\")\n",
    "        if not p.parent.exists():\n",
    "            p.parent.mkdir()\n",
    "            \n",
    "        p.write_text(create_json(folder * filename))\n",
    "        print(p)\n",
    "                 "
   ]
  },
  {
   "cell_type": "code",
   "execution_count": 21,
   "id": "f8e21fad",
   "metadata": {},
   "outputs": [
    {
     "data": {
      "text/plain": [
       "PosixPath('/home/fellner/projects/nexus/python_tools')"
      ]
     },
     "execution_count": 21,
     "metadata": {},
     "output_type": "execute_result"
    }
   ],
   "source": [
    "pathlib.Path.cwd()"
   ]
  },
  {
   "cell_type": "code",
   "execution_count": 22,
   "id": "e4c35e8c",
   "metadata": {},
   "outputs": [],
   "source": [
    "a = list(pathlib.Path().glob(\"pathlib_settings/*/*-4.json\"))"
   ]
  },
  {
   "cell_type": "code",
   "execution_count": 23,
   "id": "22dc4e66",
   "metadata": {},
   "outputs": [
    {
     "data": {
      "text/plain": [
       "[PosixPath('pathlib_settings/f-9/file-4.json'),\n",
       " PosixPath('pathlib_settings/f-3/file-4.json'),\n",
       " PosixPath('pathlib_settings/f-0/file-4.json'),\n",
       " PosixPath('pathlib_settings/f-5/file-4.json'),\n",
       " PosixPath('pathlib_settings/f-4/file-4.json'),\n",
       " PosixPath('pathlib_settings/f-2/file-4.json'),\n",
       " PosixPath('pathlib_settings/f-7/file-4.json'),\n",
       " PosixPath('pathlib_settings/f-6/file-4.json'),\n",
       " PosixPath('pathlib_settings/f-1/file-4.json'),\n",
       " PosixPath('pathlib_settings/f-8/file-4.json')]"
      ]
     },
     "execution_count": 23,
     "metadata": {},
     "output_type": "execute_result"
    }
   ],
   "source": [
    "a"
   ]
  },
  {
   "cell_type": "code",
   "execution_count": null,
   "id": "bde437d9",
   "metadata": {},
   "outputs": [],
   "source": []
  }
 ],
 "metadata": {
  "kernelspec": {
   "display_name": "Python 3",
   "language": "python",
   "name": "python3"
  },
  "language_info": {
   "codemirror_mode": {
    "name": "ipython",
    "version": 3
   },
   "file_extension": ".py",
   "mimetype": "text/x-python",
   "name": "python",
   "nbconvert_exporter": "python",
   "pygments_lexer": "ipython3",
   "version": "3.8.8"
  }
 },
 "nbformat": 4,
 "nbformat_minor": 5
}
