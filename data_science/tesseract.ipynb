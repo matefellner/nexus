{
 "cells": [
  {
   "cell_type": "code",
   "execution_count": 1,
   "id": "d0ee3898-24cb-42ca-a3bb-31cbf5047edf",
   "metadata": {},
   "outputs": [
    {
     "name": "stdout",
     "output_type": "stream",
     "text": [
      "Collecting pytesseract\n",
      "  Downloading pytesseract-0.3.10-py3-none-any.whl (14 kB)\n",
      "Requirement already satisfied: Pillow>=8.0.0 in /home/fellner/anaconda3/envs/data/lib/python3.9/site-packages (from pytesseract) (9.4.0)\n",
      "Requirement already satisfied: packaging>=21.3 in /home/fellner/anaconda3/envs/data/lib/python3.9/site-packages (from pytesseract) (22.0)\n",
      "Installing collected packages: pytesseract\n",
      "Successfully installed pytesseract-0.3.10\n",
      "Note: you may need to restart the kernel to use updated packages.\n"
     ]
    }
   ],
   "source": [
    "%pip install pytesseract"
   ]
  },
  {
   "cell_type": "code",
   "execution_count": 3,
   "id": "5708621b-6308-4e48-bc53-9330d0913c78",
   "metadata": {},
   "outputs": [
    {
     "name": "stdout",
     "output_type": "stream",
     "text": [
      "Shorts\n",
      "\n",
      " \n",
      "\n",
      "nbqa\n",
      "Code Quality in Notebooks\n",
      "\n",
      "(3)\n",
      "\n",
      " \n",
      "\n",
      "orjson.py\n",
      "Serialize Dictionaries\n",
      "\n",
      " \n",
      "\n",
      " \n",
      "\n",
      "typeguard.py\n",
      "Check Types Early\n",
      "\n",
      " \n",
      "\n",
      "safety.py\n",
      "Check Vulnerable Packages\n",
      "\n",
      "9\n",
      "\n",
      " \n",
      "\n",
      " \n",
      "\n",
      "mvp.css,\n",
      "Start with Simple Style\n",
      "\n",
      "we\n",
      "\n",
      " \n",
      "\n",
      "htop\n",
      "Compute Dashboard\n",
      "\n",
      " \n",
      "\n",
      " \n",
      "\n",
      "retry.py\n",
      "Run functions again.\n",
      "\n",
      "©\n",
      "EE\n",
      "\n",
      " \n",
      "\n",
      "toposort.py\n",
      "Sorting a Process\n",
      "\n",
      " \n",
      "\n",
      "watermark.py\n",
      "\n",
      "3qe¢ Explain your Machine\n",
      "\n",
      " \n",
      "\n",
      "purpy\n",
      "Update your package versions\n",
      "\n",
      " \n",
      "\n",
      " \n",
      "\n",
      "webp\n",
      "Lighter images\n",
      "\n",
      "ea\n",
      "&\n",
      "\n",
      " \n",
      "\n",
      "parallel\n",
      "Many Processes\n",
      "\f",
      "\n"
     ]
    }
   ],
   "source": [
    "try:\n",
    "    from PIL import Image\n",
    "except ImportError:\n",
    "    import Image\n",
    "\n",
    "import pytesseract\n",
    "\n",
    "img = Image.open('./../screencapture_calmcode.png')\n",
    "print(pytesseract.image_to_string(img))"
   ]
  },
  {
   "cell_type": "code",
   "execution_count": null,
   "id": "af0651df-0785-4088-8646-63f5e73f10af",
   "metadata": {},
   "outputs": [],
   "source": []
  }
 ],
 "metadata": {
  "kernelspec": {
   "display_name": "Python Data",
   "language": "python",
   "name": "data"
  },
  "language_info": {
   "codemirror_mode": {
    "name": "ipython",
    "version": 3
   },
   "file_extension": ".py",
   "mimetype": "text/x-python",
   "name": "python",
   "nbconvert_exporter": "python",
   "pygments_lexer": "ipython3",
   "version": "3.9.15"
  }
 },
 "nbformat": 4,
 "nbformat_minor": 5
}
