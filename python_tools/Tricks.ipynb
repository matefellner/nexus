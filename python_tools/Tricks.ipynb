{
 "cells": [
  {
   "cell_type": "code",
   "execution_count": 1,
   "id": "17ff6fbe-6a3b-44da-984a-80be6969dd98",
   "metadata": {},
   "outputs": [
    {
     "data": {
      "text/plain": [
       "[('d', 1), ('c', 2), ('b', 3), ('a', 4)]"
      ]
     },
     "execution_count": 1,
     "metadata": {},
     "output_type": "execute_result"
    }
   ],
   "source": [
    "# sort dict by value\n",
    "\n",
    "xs = {'a': 4, 'b': 3, 'c': 2, 'd': 1}\n",
    "sorted(xs.items(), key=lambda x: x[1])"
   ]
  },
  {
   "cell_type": "code",
   "execution_count": 2,
   "id": "85e57396-9e04-487a-bdd4-8eb16ec0bdba",
   "metadata": {},
   "outputs": [
    {
     "data": {
      "text/plain": [
       "True"
      ]
     },
     "execution_count": 2,
     "metadata": {},
     "output_type": "execute_result"
    }
   ],
   "source": [
    "# test multiple flags\n",
    "\n",
    "x, y, z = 0, 1, 0\n",
    "1 in (x, y, z)"
   ]
  },
  {
   "cell_type": "code",
   "execution_count": 4,
   "id": "fd2f8f34-51f7-4782-a7df-74e5e54dc8c6",
   "metadata": {},
   "outputs": [
    {
     "data": {
      "text/plain": [
       "{'a': 1, 'b': 3, 'c': 4}"
      ]
     },
     "execution_count": 4,
     "metadata": {},
     "output_type": "execute_result"
    }
   ],
   "source": [
    "# merging dicts\n",
    "\n",
    "x = {'a': 1, 'b': 2}\n",
    "y = {'b': 3, 'c': 4}\n",
    "z = {**x, **y}\n",
    "z\n",
    "# {'a': 1, 'c': 4, 'b': 3}"
   ]
  },
  {
   "cell_type": "code",
   "execution_count": 5,
   "id": "695313f0-b85d-422b-8b57-fb7a93f67152",
   "metadata": {},
   "outputs": [
    {
     "name": "stdout",
     "output_type": "stream",
     "text": [
      "{\n",
      "    \"a\": 23,\n",
      "    \"b\": 42,\n",
      "    \"c\": 12648430\n",
      "}\n"
     ]
    }
   ],
   "source": [
    "my_dict = {'a': 23, 'b': 42, 'c': 0xc0ffee}\n",
    "\n",
    "import json\n",
    "print(json.dumps(my_dict, indent=4, sort_keys=True))"
   ]
  },
  {
   "cell_type": "code",
   "execution_count": null,
   "id": "3987f221-9e01-4359-b494-b54e2ba185f1",
   "metadata": {},
   "outputs": [],
   "source": [
    "# convert jupyter notebook to document\n",
    "#\n",
    "# jupyter nbconvert -- to html my_notebook.ipynb"
   ]
  },
  {
   "cell_type": "code",
   "execution_count": 7,
   "id": "0ac02f5f-816f-4b24-896c-509dd0bf6cd0",
   "metadata": {},
   "outputs": [
    {
     "data": {
      "text/plain": [
       "7"
      ]
     },
     "execution_count": 7,
     "metadata": {},
     "output_type": "execute_result"
    }
   ],
   "source": [
    "# dict as switch/case\n",
    "\n",
    "def dispatch_dict(operator, x, y):\n",
    "    return {\n",
    "        'add': lambda: x + y,\n",
    "        'sub': lambda: x - y,\n",
    "        'mul': lambda: x * y,\n",
    "        'div': lambda: x / y,\n",
    "    }.get(operator, lambda: None)()\n",
    "\n",
    "dispatch_dict('add', 3, 4)"
   ]
  },
  {
   "cell_type": "code",
   "execution_count": 3,
   "id": "60ef304b-435f-4b99-be82-d06b1d76ffc4",
   "metadata": {},
   "outputs": [
    {
     "name": "stdout",
     "output_type": "stream",
     "text": [
      "[[1 1 1]\n",
      " [0 0 0]\n",
      " [2 2 2]] 2\n"
     ]
    }
   ],
   "source": [
    "# Connected components of array\n",
    "\n",
    "import numpy as np\n",
    "from scipy.ndimage.measurements import label\n",
    "\n",
    "array = np.ones((3, 3))\n",
    "\n",
    "array[1,:] = 0\n",
    "\n",
    "labeled_array, number_of_components = label(array)\n",
    "\n",
    "print(labeled_array, number_of_components)"
   ]
  },
  {
   "cell_type": "code",
   "execution_count": 5,
   "id": "bcabf802-d789-4cae-b386-6045c00e77b1",
   "metadata": {},
   "outputs": [
    {
     "name": "stdout",
     "output_type": "stream",
     "text": [
      "+--+--+--+--+--+--+--+--+--+--+--+--+--+--+--+--+\n",
      "|                 |                    |     |  |\n",
      "+  +--+  +--+--+  +--+--+  +--+--+--+  +  +  +  +\n",
      "|  |     |     |     |     |     |  |     |  |  |\n",
      "+  +  +--+  +  +--+  +  +--+  +  +  +--+--+  +  +\n",
      "|  |  |     |  |  |     |     |  |        |  |  |\n",
      "+--+  +  +--+--+  +--+--+  +--+  +--+  +  +  +  +\n",
      "|     |  |     |           |        |  |  |     |\n",
      "+  +--+  +  +  +--+--+  +--+--+--+  +  +  +--+  +\n",
      "|        |  |           |     |        |     |  |\n",
      "+--+--+--+  +--+--+--+--+  +  +  +--+--+--+  +  +\n",
      "|        |     |     |     |  |     |     |  |  |\n",
      "+--+--+  +  +  +  +  +  +--+  +  +--+  +  +--+  +\n",
      "|        |  |  |  |     |  |  |  |     |  |     |\n",
      "+  +--+--+  +  +  +--+--+  +  +--+  +--+  +  +--+\n",
      "|           |              |           |        |\n",
      "+--+--+--+--+--+--+--+--+--+--+--+--+--+--+--+--+\n",
      "\n",
      "\n"
     ]
    }
   ],
   "source": [
    "# make maze\n",
    "\n",
    "def make_maze(w=16, h=8):\n",
    "    \"\"\"\n",
    "    Creating a random maze.\n",
    "    Parameters:\n",
    "        w : int\n",
    "            width of maze\n",
    "        h : int\n",
    "            height of maze\n",
    "\n",
    "    Returns:\n",
    "        s : String of maze\n",
    "    \"\"\"\n",
    "    import random\n",
    "\n",
    "    vis = [[0] * w + [1] for _ in range(h)] + [[1] * (w + 1)]\n",
    "    ver = [[\"|  \"] * w + [\"|\"] for _ in range(h)] + [[]]\n",
    "    hor = [[\"+--\"] * w + [\"+\"] for _ in range(h + 1)]\n",
    "\n",
    "    def walk(x, y):\n",
    "        \"\"\"\n",
    "        Random walk in maze\n",
    "        \"\"\"\n",
    "        vis[y][x] = 1\n",
    "\n",
    "        d = [(x - 1, y), (x, y + 1), (x + 1, y), (x, y - 1)]\n",
    "        random.shuffle(d)\n",
    "        for (xx, yy) in d:\n",
    "            if vis[yy][xx]:\n",
    "                continue\n",
    "            if xx == x:\n",
    "                hor[max(y, yy)][x] = \"+  \"\n",
    "            if yy == y:\n",
    "                ver[y][max(x, xx)] = \"   \"\n",
    "            walk(xx, yy)\n",
    "\n",
    "    walk(random.randrange(w), random.randrange(h))\n",
    "\n",
    "    s = \"\"\n",
    "    for (a, b) in zip(hor, ver):\n",
    "        s += \"\".join(a + [\"\\n\"] + b + [\"\\n\"])\n",
    "    return s\n",
    "\n",
    "\n",
    "maze = make_maze()\n",
    "print(maze)"
   ]
  },
  {
   "cell_type": "code",
   "execution_count": null,
   "id": "4bafdfd1-41db-4925-8ba5-269aaaccbdad",
   "metadata": {},
   "outputs": [],
   "source": []
  }
 ],
 "metadata": {
  "kernelspec": {
   "display_name": "Python Data",
   "language": "python",
   "name": "data"
  },
  "language_info": {
   "codemirror_mode": {
    "name": "ipython",
    "version": 3
   },
   "file_extension": ".py",
   "mimetype": "text/x-python",
   "name": "python",
   "nbconvert_exporter": "python",
   "pygments_lexer": "ipython3",
   "version": "3.9.15"
  }
 },
 "nbformat": 4,
 "nbformat_minor": 5
}
