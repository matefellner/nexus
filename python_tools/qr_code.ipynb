{
 "cells": [
  {
   "cell_type": "code",
   "execution_count": 1,
   "id": "cd4e3255-96d6-498a-89f4-317d76df0eeb",
   "metadata": {},
   "outputs": [],
   "source": [
    "# %pip install \"qrcode[pil]\""
   ]
  },
  {
   "cell_type": "code",
   "execution_count": 2,
   "id": "7e565a7e-b1a7-4b1a-8e1a-8eb6ac12793e",
   "metadata": {},
   "outputs": [],
   "source": [
    "import qrcode\n",
    "img = qrcode.make('qr codes from python')"
   ]
  },
  {
   "cell_type": "code",
   "execution_count": 3,
   "id": "3f4bbbcf-4d4b-460e-9fc1-5bcbadc54f4d",
   "metadata": {},
   "outputs": [
    {
     "data": {
      "image/png": "[encoded data removed]",
      "text/plain": [
       "<qrcode.image.pil.PilImage at 0x7fc23c1515b0>"
      ]
     },
     "execution_count": 3,
     "metadata": {},
     "output_type": "execute_result"
    }
   ],
   "source": [
    "img"
   ]
  },
  {
   "cell_type": "code",
   "execution_count": 6,
   "id": "75033785-984f-4a1b-b454-5f289e09de40",
   "metadata": {},
   "outputs": [],
   "source": [
    "img.save(\"qr_code.png\")"
   ]
  },
  {
   "cell_type": "markdown",
   "id": "866b607a-05b0-4344-8b2a-b08baf002bdb",
   "metadata": {},
   "source": [
    "## Reading"
   ]
  },
  {
   "cell_type": "code",
   "execution_count": 7,
   "id": "a3039893-4e05-46d1-8910-c7c67daa2b47",
   "metadata": {},
   "outputs": [],
   "source": [
    "# %pip install opencv-python"
   ]
  },
  {
   "cell_type": "code",
   "execution_count": 8,
   "id": "869401d5-278b-4bca-b30b-cfe5bcd6b542",
   "metadata": {},
   "outputs": [],
   "source": [
    "import cv2\n",
    "import matplotlib.pylab as plt\n",
    "\n",
    "# read the QRCODE image\n",
    "img = cv2.imread(\"qr_code.png\")\n",
    "\n",
    "detector = cv2.QRCodeDetector()\n",
    "data, bbox, straight_qrcode = detector.detectAndDecode(img)"
   ]
  },
  {
   "cell_type": "code",
   "execution_count": 9,
   "id": "6e1fecd6-7ca0-4cc7-abaf-96dddd485181",
   "metadata": {},
   "outputs": [
    {
     "data": {
      "text/plain": [
       "'qr codes from python'"
      ]
     },
     "execution_count": 9,
     "metadata": {},
     "output_type": "execute_result"
    }
   ],
   "source": [
    "data"
   ]
  },
  {
   "cell_type": "markdown",
   "id": "66ea93c9-e24a-4479-90e7-4f611e9c9da3",
   "metadata": {},
   "source": [
    "## Settings"
   ]
  },
  {
   "cell_type": "code",
   "execution_count": 10,
   "id": "8465500b-ba5e-4b2c-9452-63322d98eb13",
   "metadata": {},
   "outputs": [
    {
     "data": {
      "image/png": "[encoded data removed]",
      "text/plain": [
       "<qrcode.image.pil.PilImage at 0x7fc23c166940>"
      ]
     },
     "execution_count": 10,
     "metadata": {},
     "output_type": "execute_result"
    }
   ],
   "source": [
    "qr = qrcode.QRCode(\n",
    "    version=1,\n",
    "    error_correction=qrcode.constants.ERROR_CORRECT_H, # L -> M -> Q -> H\n",
    "    box_size=5,\n",
    "    border=4,\n",
    ")\n",
    "qr.add_data('https//calmcode.io')\n",
    "qr.make(fit=True) # Setting fit=True ensures the minimum size.\n",
    "\n",
    "img = qr.make_image(fill_color=\"red\", back_color=\"black\")\n",
    "img"
   ]
  },
  {
   "cell_type": "code",
   "execution_count": null,
   "id": "e31b36bd-e702-407d-8a88-6af0c7301a2c",
   "metadata": {},
   "outputs": [],
   "source": []
  }
 ],
 "metadata": {
  "kernelspec": {
   "display_name": "Python Data",
   "language": "python",
   "name": "data"
  },
  "language_info": {
   "codemirror_mode": {
    "name": "ipython",
    "version": 3
   },
   "file_extension": ".py",
   "mimetype": "text/x-python",
   "name": "python",
   "nbconvert_exporter": "python",
   "pygments_lexer": "ipython3",
   "version": "3.9.15"
  }
 },
 "nbformat": 4,
 "nbformat_minor": 5
}
