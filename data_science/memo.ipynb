{
 "cells": [
  {
   "cell_type": "code",
   "execution_count": null,
   "id": "3b7b41a4-a714-4ed6-9478-c47e2f663a11",
   "metadata": {},
   "outputs": [],
   "source": [
    "%pip install memo"
   ]
  },
  {
   "cell_type": "code",
   "execution_count": 1,
   "id": "0e61a2fc-fe5c-4f35-b4e0-7019f4c91cdc",
   "metadata": {},
   "outputs": [],
   "source": [
    "import numpy as np\n",
    "from memo import memlist, memfile, memfunc, memweb, time_taken\n",
    "\n",
    "data = []\n",
    "\n",
    "@memfile(filepath=\"results.jsonl\")\n",
    "@memlist(data=data)\n",
    "@time_taken()\n",
    "def birthday_experiment(class_size, n_sim=1000):\n",
    "    \"\"\"Simulates the birthday paradox. Vectorized = Fast!\"\"\"\n",
    "    sims = np.random.randint(1, 365 + 1, (n_sim, class_size))\n",
    "    sort_sims = np.sort(sims, axis=1)\n",
    "    n_uniq = (sort_sims[:, 1:] != sort_sims[:, :-1]).sum(axis = 1) + 1\n",
    "    return {\"est_prob\": np.mean(n_uniq != class_size), \"number\": 42}\n",
    "\n",
    "for size in range(2, 100):\n",
    "    birthday_experiment(class_size=size, n_sim=1_000)"
   ]
  },
  {
   "cell_type": "code",
   "execution_count": 2,
   "id": "43388469-8649-449c-b0e5-6583bb190fe3",
   "metadata": {},
   "outputs": [
    {
     "data": {
      "image/png": "[encoded data removed]",
      "text/plain": [
       "<Figure size 640x480 with 1 Axes>"
      ]
     },
     "metadata": {},
     "output_type": "display_data"
    }
   ],
   "source": [
    "import pandas as pd\n",
    "import matplotlib.pylab as plt\n",
    "\n",
    "df = pd.DataFrame(data)\n",
    "plt.plot(df['class_size'], df['est_prob']);"
   ]
  },
  {
   "cell_type": "code",
   "execution_count": 3,
   "id": "e49e7ce7-9909-49bc-ac65-01c4efb22ad3",
   "metadata": {},
   "outputs": [],
   "source": [
    "from memo import grid\n",
    "\n",
    "settings = grid(\n",
    "    class_size=range(2, 100),\n",
    "    n_sim=[1_000, 10_000, 100_000]\n",
    ")\n",
    "\n",
    "for setting in settings:\n",
    "    birthday_experiment(**setting)"
   ]
  },
  {
   "cell_type": "code",
   "execution_count": 4,
   "id": "d43d5b23-1190-4b90-9f04-7b73075bedf9",
   "metadata": {},
   "outputs": [],
   "source": [
    "from memo import Runner"
   ]
  },
  {
   "cell_type": "code",
   "execution_count": 5,
   "id": "0ab81590-9395-489b-bf33-63b3925bee47",
   "metadata": {},
   "outputs": [
    {
     "data": {
      "text/html": [
       "<pre style=\"white-space:pre;overflow-x:auto;line-height:normal;font-family:Menlo,'DejaVu Sans Mono',consolas,'Courier New',monospace\"></pre>\n"
      ],
      "text/plain": [
       "\u001b[?25l"
      ]
     },
     "metadata": {},
     "output_type": "display_data"
    },
    {
     "data": {
      "application/vnd.jupyter.widget-view+json": {
       "model_id": "76898a4ac84e4d58b95c235f603fe80a",
       "version_major": 2,
       "version_minor": 0
      },
      "text/plain": [
       "Output()"
      ]
     },
     "metadata": {},
     "output_type": "display_data"
    },
    {
     "data": {
      "text/html": [
       "<pre style=\"white-space:pre;overflow-x:auto;line-height:normal;font-family:Menlo,'DejaVu Sans Mono',consolas,'Courier New',monospace\">\n",
       "</pre>\n"
      ],
      "text/plain": [
       "\n",
       "\u001b[?25h"
      ]
     },
     "metadata": {},
     "output_type": "display_data"
    },
    {
     "name": "stdout",
     "output_type": "stream",
     "text": [
      "CPU times: user 26.7 s, sys: 1.14 s, total: 27.8 s\n",
      "Wall time: 8.95 s\n"
     ]
    }
   ],
   "source": [
    "%%time\n",
    "Runner(backend=\"threading\", n_jobs=4).run(birthday_experiment, settings)"
   ]
  }
 ],
 "metadata": {
  "kernelspec": {
   "display_name": "Python Data",
   "language": "python",
   "name": "data"
  },
  "language_info": {
   "codemirror_mode": {
    "name": "ipython",
    "version": 3
   },
   "file_extension": ".py",
   "mimetype": "text/x-python",
   "name": "python",
   "nbconvert_exporter": "python",
   "pygments_lexer": "ipython3",
   "version": "3.9.15"
  }
 },
 "nbformat": 4,
 "nbformat_minor": 5
}
