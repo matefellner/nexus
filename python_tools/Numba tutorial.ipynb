{
 "cells": [
  {
   "cell_type": "markdown",
   "metadata": {},
   "source": [
    "## Introduction"
   ]
  },
  {
   "cell_type": "code",
   "execution_count": 1,
   "metadata": {},
   "outputs": [],
   "source": [
    "def func_one(n):\n",
    "    result = 0\n",
    "    for i in range(n):\n",
    "        squared = n * n\n",
    "        result += squared\n",
    "    return result\n",
    "\n",
    "def func_two(n):\n",
    "    result = 0\n",
    "    squared = n * n\n",
    "    for i in range(n):\n",
    "        result += squared\n",
    "    return result\n"
   ]
  },
  {
   "cell_type": "code",
   "execution_count": 2,
   "metadata": {},
   "outputs": [
    {
     "name": "stdout",
     "output_type": "stream",
     "text": [
      "397 µs ± 1.49 µs per loop (mean ± std. dev. of 7 runs, 1,000 loops each)\n",
      "268 µs ± 1.58 µs per loop (mean ± std. dev. of 7 runs, 1,000 loops each)\n"
     ]
    }
   ],
   "source": [
    "%timeit func_one(10000)\n",
    "%timeit func_two(10000)"
   ]
  },
  {
   "cell_type": "code",
   "execution_count": 3,
   "metadata": {},
   "outputs": [],
   "source": [
    "import numba as nb\n",
    "\n",
    "@nb.njit\n",
    "def func_one(n):\n",
    "    result = 0\n",
    "    for i in range(n):\n",
    "        squared = n * n\n",
    "        result += squared\n",
    "    return result\n",
    "\n",
    "@nb.njit\n",
    "def func_two(n):\n",
    "    result = 0\n",
    "    squared = n * n\n",
    "    for i in range(n):\n",
    "        result += squared\n",
    "    return result\n",
    "\n",
    "func_one(1); func_two(2);"
   ]
  },
  {
   "cell_type": "code",
   "execution_count": 4,
   "metadata": {},
   "outputs": [
    {
     "name": "stdout",
     "output_type": "stream",
     "text": [
      "99.2 ns ± 0.878 ns per loop (mean ± std. dev. of 7 runs, 10,000,000 loops each)\n",
      "98.8 ns ± 0.567 ns per loop (mean ± std. dev. of 7 runs, 10,000,000 loops each)\n"
     ]
    }
   ],
   "source": [
    "%timeit func_one(10000)\n",
    "%timeit func_two(10000)"
   ]
  },
  {
   "cell_type": "markdown",
   "metadata": {},
   "source": [
    "## Parallel"
   ]
  },
  {
   "cell_type": "code",
   "execution_count": 5,
   "metadata": {},
   "outputs": [],
   "source": [
    "import numpy as np\n",
    "\n",
    "@nb.njit()\n",
    "def hypot_n(x, y):\n",
    "    return (x**2 + y**2)**0.5\n",
    "\n",
    "@nb.njit(parallel=True, fastmath=True)\n",
    "def hypot_p(x, y):\n",
    "    return (x**2 + y**2)**0.5\n",
    "\n",
    "r1 = np.random.random(size=(2000, 2000))\n",
    "r2 = np.random.random(size=(2000, 2000))\n",
    "\n",
    "# We will call both functions once to compile them.\n",
    "hypot_n(r1, r2); hypot_p(r1, r2);"
   ]
  },
  {
   "cell_type": "code",
   "execution_count": 6,
   "metadata": {},
   "outputs": [
    {
     "name": "stdout",
     "output_type": "stream",
     "text": [
      "7.69 ms ± 38.4 µs per loop (mean ± std. dev. of 7 runs, 100 loops each)\n",
      "12.9 ms ± 62.3 µs per loop (mean ± std. dev. of 7 runs, 100 loops each)\n",
      "4.25 ms ± 392 µs per loop (mean ± std. dev. of 7 runs, 100 loops each)\n"
     ]
    }
   ],
   "source": [
    "%timeit hypot_n(r1, r2)\n",
    "%timeit (r1 ** 2 + r2 ** 2)**0.5\n",
    "%timeit hypot_p(r1, r2)"
   ]
  },
  {
   "cell_type": "markdown",
   "metadata": {},
   "source": [
    "## Types"
   ]
  },
  {
   "cell_type": "code",
   "execution_count": 7,
   "metadata": {},
   "outputs": [
    {
     "data": {
      "text/plain": [
       "(array(float64, 2d, A), array(float64, 2d, A)) -> array(float64, 2d, A)"
      ]
     },
     "execution_count": 7,
     "metadata": {},
     "output_type": "execute_result"
    }
   ],
   "source": [
    "from numba import float64\n",
    "\n",
    "float64[:, :](float64[:, :], float64[:, :])"
   ]
  },
  {
   "cell_type": "code",
   "execution_count": 8,
   "metadata": {
    "tags": []
   },
   "outputs": [
    {
     "data": {
      "text/plain": [
       "array([[1.25252783, 0.8858779 , 1.16478573, ..., 0.68519736, 0.93683863,\n",
       "        0.1157479 ],\n",
       "       [0.55672638, 0.87614166, 0.8830354 , ..., 0.28155445, 0.93778775,\n",
       "        0.85374986],\n",
       "       [0.84842341, 0.26206338, 1.08365793, ..., 0.32440571, 0.30761915,\n",
       "        1.2717025 ],\n",
       "       ...,\n",
       "       [1.00921872, 1.00467014, 0.90317148, ..., 0.9582827 , 1.0849355 ,\n",
       "        0.38325605],\n",
       "       [0.39270304, 0.76392759, 1.1773669 , ..., 1.15297935, 0.95138762,\n",
       "        0.25601513],\n",
       "       [0.59720513, 0.84778881, 0.2440707 , ..., 0.47936671, 0.57072272,\n",
       "        0.67588545]])"
      ]
     },
     "execution_count": 8,
     "metadata": {},
     "output_type": "execute_result"
    }
   ],
   "source": [
    "@nb.njit(float64[:, :](float64[:, :], float64[:, :]), parallel=True, fastmath=True)\n",
    "def hypot_t(x, y):\n",
    "    return (x**2 + y**2)**0.5\n",
    "\n",
    "hypot_t(r1, r2)"
   ]
  },
  {
   "cell_type": "code",
   "execution_count": 9,
   "metadata": {},
   "outputs": [
    {
     "name": "stdout",
     "output_type": "stream",
     "text": [
      "4.58 ms ± 424 µs per loop (mean ± std. dev. of 7 runs, 100 loops each)\n"
     ]
    }
   ],
   "source": [
    "%timeit hypot_t(r1, r2)"
   ]
  },
  {
   "cell_type": "markdown",
   "metadata": {},
   "source": [
    "## Vectorize"
   ]
  },
  {
   "cell_type": "code",
   "execution_count": 10,
   "metadata": {},
   "outputs": [],
   "source": [
    "arr = np.ones((5,4))*1.01"
   ]
  },
  {
   "cell_type": "code",
   "execution_count": 11,
   "metadata": {},
   "outputs": [],
   "source": [
    "from numba import vectorize, float64, float32\n",
    "\n",
    "@vectorize([float64(float64, float64), float32(float32, float32)])\n",
    "def cumprod(x, y):\n",
    "    return x * y"
   ]
  },
  {
   "cell_type": "code",
   "execution_count": 12,
   "metadata": {},
   "outputs": [
    {
     "data": {
      "text/plain": [
       "array([1.04060401, 1.04060401, 1.04060401, 1.04060401, 1.04060401])"
      ]
     },
     "execution_count": 12,
     "metadata": {},
     "output_type": "execute_result"
    }
   ],
   "source": [
    "cumprod.accumulate(arr, axis=0)\n",
    "cumprod.accumulate(arr, axis=1)\n",
    "cumprod.reduce(arr, axis=0)\n",
    "cumprod.reduce(arr, axis=1)"
   ]
  },
  {
   "cell_type": "code",
   "execution_count": null,
   "metadata": {},
   "outputs": [],
   "source": []
  }
 ],
 "metadata": {
  "kernelspec": {
   "display_name": "Python (data)",
   "language": "python",
   "name": "data_env"
  },
  "language_info": {
   "codemirror_mode": {
    "name": "ipython",
    "version": 3
   },
   "file_extension": ".py",
   "mimetype": "text/x-python",
   "name": "python",
   "nbconvert_exporter": "python",
   "pygments_lexer": "ipython3",
   "version": "3.9.15"
  }
 },
 "nbformat": 4,
 "nbformat_minor": 4
}
