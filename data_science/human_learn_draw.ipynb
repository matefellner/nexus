{
 "cells": [
  {
   "cell_type": "code",
   "execution_count": null,
   "id": "8c549b20-b459-41a8-9c75-10ffd349c450",
   "metadata": {},
   "outputs": [],
   "source": [
    "from sklego.datasets import load_penguins\n",
    "from hulearn.experimental.interactive import InteractiveCharts\n",
    "import pandas as pd\n",
    "import numpy as np\n",
    "\n",
    "df = load_penguins(as_frame=True).dropna()"
   ]
  },
  {
   "cell_type": "code",
   "execution_count": null,
   "id": "f68753d4-1a42-461f-9bb4-014550c1c385",
   "metadata": {},
   "outputs": [],
   "source": [
    "from hulearn.experimental.interactive import InteractiveCharts\n",
    "\n",
    "clf = InteractiveCharts(df, labels=\"species\")\n",
    "\n",
    "# Run this in a seperate cell.\n",
    "clf.add_chart(x=\"bill_length_mm\", y=\"bill_depth_mm\")\n",
    "\n",
    "# Run this in a seperate cell.\n",
    "clf.add_chart(x=\"flipper_length_mm\", y=\"body_mass_g\")"
   ]
  },
  {
   "cell_type": "code",
   "execution_count": null,
   "id": "985ecd58-ab75-40bd-8add-2fa9713415e4",
   "metadata": {},
   "outputs": [],
   "source": [
    "X, y = df.drop(columns=['species']), df['species']"
   ]
  },
  {
   "cell_type": "code",
   "execution_count": null,
   "id": "792c3f78-485e-4a14-9446-16b4edb5fed9",
   "metadata": {},
   "outputs": [],
   "source": [
    "from hulearn.classification import InteractiveClassifier\n",
    "\n",
    "model = InteractiveClassifier(json_desc=clf.data())\n",
    "\n",
    "# The `.fit(X, y)` is a formality form scikit-learn.\n",
    "# It isn't \"learning\" anything when you run that code.\n",
    "preds = model.fit(X, y).predict_proba(X)"
   ]
  },
  {
   "cell_type": "code",
   "execution_count": null,
   "id": "fc0fce85-db36-4be2-8e43-485f04dfc502",
   "metadata": {},
   "outputs": [],
   "source": [
    "import matplotlib.pylab as plt\n",
    "\n",
    "plt.figure(figsize=(12, 3))\n",
    "for i in range(3):\n",
    "    plt.subplot(131 + i)\n",
    "    plt.scatter(X['bill_length_mm'], X['bill_depth_mm'], c=preds[:, i])\n",
    "    plt.xlabel('bill_length_mm')\n",
    "    plt.ylabel('bill_depth_mm')\n",
    "    plt.title(model.classes_[i])\n",
    "\n",
    "import matplotlib.pylab as plt\n",
    "\n",
    "plt.figure(figsize=(12, 3))\n",
    "for i in range(3):\n",
    "    plt.subplot(131 + i)\n",
    "    plt.scatter(X['flipper_length_mm'], X['body_mass_g'], c=preds[:, i])\n",
    "    plt.xlabel('flipper_length_mm')\n",
    "    plt.ylabel('body_mass_g')\n",
    "    plt.title(model.classes_[i])"
   ]
  },
  {
   "cell_type": "code",
   "execution_count": null,
   "id": "2d73e0eb-dde4-472c-aadd-746f4954725f",
   "metadata": {},
   "outputs": [],
   "source": [
    "old_example = pd.DataFrame([{\n",
    "    'island': 'Torgersen',\n",
    "    'bill_length_mm': 39.1,\n",
    "    'bill_depth_mm': 18.7,\n",
    "    'flipper_length_mm': 220.0,\n",
    "    'body_mass_g': 5750.0,\n",
    "    'sex': 'male'}\n",
    "])\n",
    "\n",
    "new_example = pd.DataFrame([{\n",
    "    'island': 'Torgersen',\n",
    "    'bill_length_mm': np.nan,\n",
    "    'bill_depth_mm': 18.7,\n",
    "    'flipper_length_mm': 220.0,\n",
    "    'body_mass_g': 5750.0,\n",
    "    'sex': 'male'}\n",
    "])\n",
    "\n",
    "print(model.predict_proba(old_example))\n",
    "print(model.predict_proba(new_example))"
   ]
  },
  {
   "cell_type": "code",
   "execution_count": null,
   "id": "8a73ebeb-2e42-4239-a544-44466a077d23",
   "metadata": {},
   "outputs": [],
   "source": [
    "# Note that we now supply a list of labels to draw.\n",
    "charts = InteractiveCharts(df, labels=[\"group_one\", \"group_two\"])\n",
    "charts.add_chart(x=\"bill_length_mm\", y=\"bill_depth_mm\")\n"
   ]
  },
  {
   "cell_type": "code",
   "execution_count": null,
   "id": "66c3aab3-b63a-41cf-9483-f7a3762add67",
   "metadata": {},
   "outputs": [],
   "source": [
    "from hulearn.preprocessing import InteractivePreprocessor\n",
    "tfm = InteractivePreprocessor(json_desc=charts.data())\n",
    "\n",
    "# The flow for scikit-learn\n",
    "tfm.fit(df).transform(df)\n",
    "\n",
    "# The flow for pandas\n",
    "df.pipe(tfm.pandas_pipe)"
   ]
  },
  {
   "cell_type": "code",
   "execution_count": null,
   "id": "cf02e9cd-ab2f-43fc-ab5a-469e3b32d3df",
   "metadata": {},
   "outputs": [],
   "source": []
  }
 ],
 "metadata": {
  "kernelspec": {
   "display_name": "Python Data",
   "language": "python",
   "name": "data"
  },
  "language_info": {
   "codemirror_mode": {
    "name": "ipython",
    "version": 3
   },
   "file_extension": ".py",
   "mimetype": "text/x-python",
   "name": "python",
   "nbconvert_exporter": "python",
   "pygments_lexer": "ipython3",
   "version": "3.9.15"
  }
 },
 "nbformat": 4,
 "nbformat_minor": 5
}
