{
 "cells": [
  {
   "cell_type": "code",
   "execution_count": 1,
   "id": "04fb823c",
   "metadata": {},
   "outputs": [],
   "source": [
    "import chime"
   ]
  },
  {
   "cell_type": "code",
   "execution_count": 2,
   "id": "23b89f30",
   "metadata": {},
   "outputs": [],
   "source": [
    "chime.success()"
   ]
  },
  {
   "cell_type": "code",
   "execution_count": 3,
   "id": "43cdba65",
   "metadata": {},
   "outputs": [],
   "source": [
    "chime.warning()"
   ]
  },
  {
   "cell_type": "code",
   "execution_count": 4,
   "id": "5cc8a331",
   "metadata": {},
   "outputs": [],
   "source": [
    "chime.info()"
   ]
  },
  {
   "cell_type": "code",
   "execution_count": 5,
   "id": "f93c006f",
   "metadata": {},
   "outputs": [],
   "source": [
    "chime.error()"
   ]
  },
  {
   "cell_type": "code",
   "execution_count": 6,
   "id": "f529d804",
   "metadata": {},
   "outputs": [
    {
     "data": {
      "text/plain": [
       "['big-sur', 'chime', 'mario', 'material', 'zelda']"
      ]
     },
     "execution_count": 6,
     "metadata": {},
     "output_type": "execute_result"
    }
   ],
   "source": [
    "chime.themes()"
   ]
  },
  {
   "cell_type": "code",
   "execution_count": 7,
   "id": "a8b03d3b",
   "metadata": {},
   "outputs": [],
   "source": [
    "chime.theme('zelda')"
   ]
  },
  {
   "cell_type": "code",
   "execution_count": 8,
   "id": "8693bd2e",
   "metadata": {},
   "outputs": [],
   "source": [
    "chime.notify_exceptions()"
   ]
  },
  {
   "cell_type": "code",
   "execution_count": 9,
   "id": "d4cc66c7",
   "metadata": {},
   "outputs": [
    {
     "ename": "ValueError",
     "evalue": "a",
     "output_type": "error",
     "traceback": [
      "\u001b[0;31m---------------------------------------------------------------------------\u001b[0m",
      "\u001b[0;31mValueError\u001b[0m                                Traceback (most recent call last)",
      "\u001b[0;32m<ipython-input-9-f0adec991a0f>\u001b[0m in \u001b[0;36m<module>\u001b[0;34m\u001b[0m\n\u001b[1;32m      7\u001b[0m     \u001b[0mchime\u001b[0m\u001b[0;34m.\u001b[0m\u001b[0minfo\u001b[0m\u001b[0;34m(\u001b[0m\u001b[0;34m)\u001b[0m\u001b[0;34m\u001b[0m\u001b[0;34m\u001b[0m\u001b[0m\n\u001b[1;32m      8\u001b[0m \u001b[0;34m\u001b[0m\u001b[0m\n\u001b[0;32m----> 9\u001b[0;31m \u001b[0mlong_task\u001b[0m\u001b[0;34m(\u001b[0m\u001b[0;34m)\u001b[0m\u001b[0;34m\u001b[0m\u001b[0;34m\u001b[0m\u001b[0m\n\u001b[0m",
      "\u001b[0;32m<ipython-input-9-f0adec991a0f>\u001b[0m in \u001b[0;36mlong_task\u001b[0;34m()\u001b[0m\n\u001b[1;32m      4\u001b[0m     \u001b[0;32mfor\u001b[0m \u001b[0mi\u001b[0m \u001b[0;32min\u001b[0m \u001b[0mrange\u001b[0m\u001b[0;34m(\u001b[0m\u001b[0;36m2\u001b[0m\u001b[0;34m)\u001b[0m\u001b[0;34m:\u001b[0m\u001b[0;34m\u001b[0m\u001b[0;34m\u001b[0m\u001b[0m\n\u001b[1;32m      5\u001b[0m         \u001b[0mtime\u001b[0m\u001b[0;34m.\u001b[0m\u001b[0msleep\u001b[0m\u001b[0;34m(\u001b[0m\u001b[0;36m1\u001b[0m\u001b[0;34m)\u001b[0m\u001b[0;34m\u001b[0m\u001b[0;34m\u001b[0m\u001b[0m\n\u001b[0;32m----> 6\u001b[0;31m     \u001b[0;32mraise\u001b[0m \u001b[0mValueError\u001b[0m\u001b[0;34m(\u001b[0m\u001b[0;34m\"a\"\u001b[0m\u001b[0;34m)\u001b[0m\u001b[0;34m\u001b[0m\u001b[0;34m\u001b[0m\u001b[0m\n\u001b[0m\u001b[1;32m      7\u001b[0m     \u001b[0mchime\u001b[0m\u001b[0;34m.\u001b[0m\u001b[0minfo\u001b[0m\u001b[0;34m(\u001b[0m\u001b[0;34m)\u001b[0m\u001b[0;34m\u001b[0m\u001b[0;34m\u001b[0m\u001b[0m\n\u001b[1;32m      8\u001b[0m \u001b[0;34m\u001b[0m\u001b[0m\n",
      "\u001b[0;31mValueError\u001b[0m: a"
     ]
    }
   ],
   "source": [
    "import time\n",
    "\n",
    "def long_task():\n",
    "    for i in range(2):\n",
    "        time.sleep(1)\n",
    "    raise ValueError(\"a\")\n",
    "    chime.info()\n",
    "    \n",
    "long_task()"
   ]
  },
  {
   "cell_type": "code",
   "execution_count": 29,
   "id": "e0165941",
   "metadata": {},
   "outputs": [],
   "source": [
    "#from terminal\n",
    "# > python -c \"something\" & python -m chime warning"
   ]
  },
  {
   "cell_type": "code",
   "execution_count": null,
   "id": "1f92267e",
   "metadata": {},
   "outputs": [],
   "source": []
  }
 ],
 "metadata": {
  "kernelspec": {
   "display_name": "Python 3",
   "language": "python",
   "name": "python3"
  },
  "language_info": {
   "codemirror_mode": {
    "name": "ipython",
    "version": 3
   },
   "file_extension": ".py",
   "mimetype": "text/x-python",
   "name": "python",
   "nbconvert_exporter": "python",
   "pygments_lexer": "ipython3",
   "version": "3.8.8"
  }
 },
 "nbformat": 4,
 "nbformat_minor": 5
}
